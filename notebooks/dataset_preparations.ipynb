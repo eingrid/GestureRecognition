{
 "cells": [
  {
   "cell_type": "code",
   "execution_count": 1,
   "metadata": {},
   "outputs": [],
   "source": [
    "import pandas as pd\n",
    "import torch\n",
    "import torch.nn as nn\n",
    "import torch.nn.functional as F\n",
    "import torch.optim as optim\n",
    "import torchmetrics\n",
    "\n",
    "\n",
    "import os\n",
    "import numpy as np\n",
    "# ds = pd.read_csv('Dataset.csv')\n",
    "# ds"
   ]
  },
  {
   "cell_type": "markdown",
   "metadata": {},
   "source": [
    "## Reading dataset"
   ]
  },
  {
   "cell_type": "code",
   "execution_count": 2,
   "metadata": {},
   "outputs": [],
   "source": [
    "test_gesture = './DATASET/TEST_DATASET'\n",
    "train_gesture = './DATASET/TRAIN_DATASET'\n",
    "valid_gesture = './DATASET/VALIDATION_DATASET'"
   ]
  },
  {
   "cell_type": "code",
   "execution_count": 3,
   "metadata": {},
   "outputs": [],
   "source": [
    "def add_samples(ds,X_list,y_list):\n",
    "    window_size = 30\n",
    "    overlap = window_size//2\n",
    "\n",
    "    X = ds.values\n",
    "    tmp_labels = ds.iloc[:,127].values\n",
    "    for i in range(ds.shape[0]//overlap-1):\n",
    "        start_idx = i*overlap\n",
    "        end_idx = start_idx + window_size\n",
    "        X_list.append(X[start_idx:end_idx,:126])\n",
    "        # print(start_idx,end_idx)\n",
    "        if sum(np.where(tmp_labels[start_idx:end_idx] > 0, 0, 1)) >= 9: \n",
    "            y_list.append(np.max(X[start_idx:end_idx,127]).astype(np.int32))\n",
    "        else:\n",
    "            y_list.append(0)"
   ]
  },
  {
   "cell_type": "code",
   "execution_count": 45,
   "metadata": {},
   "outputs": [],
   "source": [
    "def add_samples_max_overlap(ds,X_list,y_list):\n",
    "    window_size = 30\n",
    "    overlap = window_size//2\n",
    "    \n",
    "    X = ds.values\n",
    "    tmp_labels = ds.iloc[:,127].values\n",
    "    labels_in_window = []\n",
    "    for i in range(ds.shape[0]//overlap-1):\n",
    "        start_idx = i*overlap\n",
    "        end_idx = start_idx + window_size\n",
    "        \n",
    "        labels_in_window.append(sum(tmp_labels[start_idx:end_idx] > 0.5))\n",
    "        X_list.append(X[start_idx:end_idx,:126])\n",
    "\n",
    "            \n",
    "    largest_overlap_idx = 0\n",
    "    largest_overlap = labels_in_window[0]\n",
    "    start_idx = 0\n",
    "    label = np.max(X[:,127]).astype(np.int32)\n",
    "    # print(label,labels_in_window)\n",
    "    y = find_local_maxima(labels_in_window,min_value=7,local_max_value=label)\n",
    "    for l in y:\n",
    "        y_list.append(l)\n",
    "        \n",
    "    "
   ]
  },
  {
   "cell_type": "code",
   "execution_count": 46,
   "metadata": {},
   "outputs": [],
   "source": [
    "def find_local_maxima(array:list, min_value = 9, local_max_value=0):\n",
    "    \"\"\"\n",
    "    returns: list with same size as input array, with 1 where the local maxima (higher than min_value) is and 0 elsewhere.\n",
    "    \"\"\"\n",
    "    loc_max = [0 for x in array]\n",
    "    for i in range(1,len(array)-1):\n",
    "        if array[i] >= array[i-1] and array[i] >= array[i+1] and array[i] >= min_value: \n",
    "            loc_max[i] = local_max_value\n",
    "            if array[i-1] > min_value:\n",
    "                loc_max[i-1] = local_max_value\n",
    "            if array[i+1] > min_value:\n",
    "                loc_max[i+1] = local_max_value\n",
    "        else:\n",
    "            if loc_max[i] != local_max_value:\n",
    "                loc_max[i] = 0\n",
    "    return loc_max"
   ]
  },
  {
   "cell_type": "code",
   "execution_count": 49,
   "metadata": {},
   "outputs": [],
   "source": [
    "X_train_list,y_train_list = [], []\n",
    "X_test_list,y_test_list = [], []\n",
    "X_valid_list, y_valid_list = [], []\n",
    "full_ds = None\n",
    "train_ds = None\n",
    "test_ds = None\n",
    "i = 0\n",
    "def fill_lists(path_to_data,X_list,y_list,aug=False,train=False):\n",
    "    global full_ds, i\n",
    "    for file in os.listdir(path_to_data):\n",
    "        add_samples_max_overlap(pd.read_csv(path_to_data+'/'+file),X_list,y_list)\n",
    "        # add_samples(pd.read_csv(path_to_data+'/'+file),X_list,y_list)\n",
    "        if full_ds is None:\n",
    "            full_ds = pd.read_csv(path_to_data+'/'+file)\n",
    "            full_ds['126'] = i\n",
    "                \n",
    "                \n",
    "        else:\n",
    "            new_ds = pd.read_csv(path_to_data+'/'+file)\n",
    "            new_ds['126'] = i\n",
    "            full_ds = pd.concat([full_ds,new_ds],ignore_index=True)\n",
    "            if aug:\n",
    "                new_ds\n",
    "        i += 1\n",
    "\n",
    "fill_lists(train_gesture,X_train_list,y_train_list)\n",
    "fill_lists(test_gesture,X_test_list,y_test_list)\n",
    "fill_lists(valid_gesture,X_valid_list,y_valid_list)\n"
   ]
  },
  {
   "cell_type": "code",
   "execution_count": 51,
   "metadata": {},
   "outputs": [],
   "source": [
    "def take_not_zero(ds:pd.DataFrame):\n",
    "    r = []\n",
    "    for idx in ds['126'].unique():\n",
    "        # print(X.loc[:,'126'])\n",
    "        X = ds[ds['126']==idx]['127'].values\n",
    "        min_seq = X.shape[0] \n",
    "        max_seq = 0\n",
    "        current_seq = 0 \n",
    "        label =  X.max()\n",
    "        X = X /( X.max() if X.max() >= 1 else 1)\n",
    "        mean_seq = np.mean(X)\n",
    "        for value in X:\n",
    "            if value != 0:\n",
    "                current_seq += 1\n",
    "            elif value == 0:\n",
    "                if min_seq > current_seq and current_seq != 0:\n",
    "                    min_seq = current_seq\n",
    "                if max_seq < current_seq:\n",
    "                    max_seq = current_seq\n",
    "                current_seq = 0\n",
    "        r.append([idx,label,min_seq,max_seq])\n",
    "    return r\n",
    "d = take_not_zero(full_ds)"
   ]
  },
  {
   "cell_type": "code",
   "execution_count": 52,
   "metadata": {},
   "outputs": [
    {
     "name": "stderr",
     "output_type": "stream",
     "text": [
      "/tmp/ipykernel_386095/391785488.py:3: FutureWarning: Indexing with multiple keys (implicitly converted to a tuple of keys) will be deprecated, use a list instead.\n",
      "  k.groupby('label')['min_seq','max_seq'].mean()\n"
     ]
    },
    {
     "data": {
      "text/html": [
       "<div>\n",
       "<style scoped>\n",
       "    .dataframe tbody tr th:only-of-type {\n",
       "        vertical-align: middle;\n",
       "    }\n",
       "\n",
       "    .dataframe tbody tr th {\n",
       "        vertical-align: top;\n",
       "    }\n",
       "\n",
       "    .dataframe thead th {\n",
       "        text-align: right;\n",
       "    }\n",
       "</style>\n",
       "<table border=\"1\" class=\"dataframe\">\n",
       "  <thead>\n",
       "    <tr style=\"text-align: right;\">\n",
       "      <th></th>\n",
       "      <th>min_seq</th>\n",
       "      <th>max_seq</th>\n",
       "    </tr>\n",
       "    <tr>\n",
       "      <th>label</th>\n",
       "      <th></th>\n",
       "      <th></th>\n",
       "    </tr>\n",
       "  </thead>\n",
       "  <tbody>\n",
       "    <tr>\n",
       "      <th>1.0</th>\n",
       "      <td>15.611111</td>\n",
       "      <td>41.000000</td>\n",
       "    </tr>\n",
       "    <tr>\n",
       "      <th>2.0</th>\n",
       "      <td>23.866667</td>\n",
       "      <td>44.400000</td>\n",
       "    </tr>\n",
       "    <tr>\n",
       "      <th>3.0</th>\n",
       "      <td>16.047619</td>\n",
       "      <td>32.857143</td>\n",
       "    </tr>\n",
       "    <tr>\n",
       "      <th>4.0</th>\n",
       "      <td>16.555556</td>\n",
       "      <td>42.555556</td>\n",
       "    </tr>\n",
       "    <tr>\n",
       "      <th>5.0</th>\n",
       "      <td>7.133333</td>\n",
       "      <td>30.800000</td>\n",
       "    </tr>\n",
       "    <tr>\n",
       "      <th>6.0</th>\n",
       "      <td>12.666667</td>\n",
       "      <td>36.888889</td>\n",
       "    </tr>\n",
       "    <tr>\n",
       "      <th>7.0</th>\n",
       "      <td>3.666667</td>\n",
       "      <td>24.916667</td>\n",
       "    </tr>\n",
       "    <tr>\n",
       "      <th>8.0</th>\n",
       "      <td>6.000000</td>\n",
       "      <td>24.444444</td>\n",
       "    </tr>\n",
       "  </tbody>\n",
       "</table>\n",
       "</div>"
      ],
      "text/plain": [
       "         min_seq    max_seq\n",
       "label                      \n",
       "1.0    15.611111  41.000000\n",
       "2.0    23.866667  44.400000\n",
       "3.0    16.047619  32.857143\n",
       "4.0    16.555556  42.555556\n",
       "5.0     7.133333  30.800000\n",
       "6.0    12.666667  36.888889\n",
       "7.0     3.666667  24.916667\n",
       "8.0     6.000000  24.444444"
      ]
     },
     "execution_count": 52,
     "metadata": {},
     "output_type": "execute_result"
    }
   ],
   "source": [
    "k = pd.DataFrame(d,columns=['video_id','label','min_seq','max_seq'])\n",
    "\n",
    "k.groupby('label')['min_seq','max_seq'].mean()"
   ]
  },
  {
   "cell_type": "code",
   "execution_count": 53,
   "metadata": {},
   "outputs": [
    {
     "name": "stderr",
     "output_type": "stream",
     "text": [
      "/tmp/ipykernel_386095/755902479.py:1: FutureWarning: Indexing with multiple keys (implicitly converted to a tuple of keys) will be deprecated, use a list instead.\n",
      "  k.groupby('label')['min_seq','max_seq'].mean().mean(axis=1)\n"
     ]
    },
    {
     "data": {
      "text/plain": [
       "label\n",
       "1.0    28.305556\n",
       "2.0    34.133333\n",
       "3.0    24.452381\n",
       "4.0    29.555556\n",
       "5.0    18.966667\n",
       "6.0    24.777778\n",
       "7.0    14.291667\n",
       "8.0    15.222222\n",
       "dtype: float64"
      ]
     },
     "execution_count": 53,
     "metadata": {},
     "output_type": "execute_result"
    }
   ],
   "source": [
    "k.groupby('label')['min_seq','max_seq'].mean().mean(axis=1)"
   ]
  },
  {
   "cell_type": "code",
   "execution_count": 54,
   "metadata": {},
   "outputs": [
    {
     "name": "stdout",
     "output_type": "stream",
     "text": [
      "{0: 863, 1: 313, 2: 393, 3: 427, 4: 318, 5: 339, 6: 256, 7: 189, 8: 232}\n"
     ]
    }
   ],
   "source": [
    "y = {0:0,1:0,2:0,3:0,4:0,5:0,6:0,7:0,8:0}\n",
    "for x in y_train_list:\n",
    "    y[x] += 1\n",
    "print(y)"
   ]
  },
  {
   "cell_type": "code",
   "execution_count": 56,
   "metadata": {},
   "outputs": [
    {
     "data": {
      "text/plain": [
       "3500"
      ]
     },
     "execution_count": 56,
     "metadata": {},
     "output_type": "execute_result"
    }
   ],
   "source": [
    "samples = 3500\n",
    "samples"
   ]
  },
  {
   "cell_type": "markdown",
   "metadata": {},
   "source": [
    "# Torch Dataset"
   ]
  },
  {
   "cell_type": "code",
   "execution_count": 57,
   "metadata": {},
   "outputs": [],
   "source": [
    "labels_train = F.one_hot(torch.tensor(y_train_list,dtype=torch.int64),num_classes=9)\n",
    "labels_test = F.one_hot(torch.tensor(y_test_list,dtype=torch.int64),num_classes=9)\n",
    "labels_valid = F.one_hot(torch.tensor(y_valid_list,dtype=torch.int64),num_classes=9)"
   ]
  },
  {
   "cell_type": "code",
   "execution_count": 58,
   "metadata": {},
   "outputs": [],
   "source": [
    "X_train = torch.tensor(X_train_list)\n",
    "X_test = torch.tensor(X_test_list)\n",
    "X_valid = torch.tensor(X_valid_list)"
   ]
  },
  {
   "cell_type": "code",
   "execution_count": 59,
   "metadata": {},
   "outputs": [],
   "source": [
    "ds_train = torch.utils.data.TensorDataset(X_train,labels_train)\n",
    "dataloader_train = torch.utils.data.DataLoader(ds_train,batch_size=16,drop_last = True)\n",
    "\n",
    "ds_valid = torch.utils.data.TensorDataset(X_valid,labels_valid)\n",
    "dataloader_valid = torch.utils.data.DataLoader(ds_valid,batch_size=16,drop_last = True)\n",
    "\n",
    "ds_test = torch.utils.data.TensorDataset(X_test,labels_test)\n",
    "dataloader_test = torch.utils.data.DataLoader(ds_test,batch_size=16,drop_last = True)\n",
    "\n"
   ]
  },
  {
   "cell_type": "code",
   "execution_count": 60,
   "metadata": {},
   "outputs": [
    {
     "data": {
      "text/plain": [
       "array([0.00115875, 0.00319489, 0.00254453, 0.00234192, 0.00314465,\n",
       "       0.00294985, 0.00390625, 0.00529101, 0.00431034])"
      ]
     },
     "execution_count": 60,
     "metadata": {},
     "output_type": "execute_result"
    }
   ],
   "source": [
    "w = 1./(pd.DataFrame(ds_train[:][1].argmax(dim=1).numpy()).value_counts().sort_index().values)\n",
    "w"
   ]
  },
  {
   "cell_type": "code",
   "execution_count": 75,
   "metadata": {},
   "outputs": [
    {
     "data": {
      "text/plain": [
       "[0.00234192037470726,\n",
       " 0.00234192037470726,\n",
       " 0.00234192037470726,\n",
       " 0.002317497103128621,\n",
       " 0.00234192037470726,\n",
       " 0.00234192037470726,\n",
       " 0.00234192037470726,\n",
       " 0.00234192037470726,\n",
       " 0.00234192037470726,\n",
       " 0.00234192037470726]"
      ]
     },
     "execution_count": 75,
     "metadata": {},
     "output_type": "execute_result"
    }
   ],
   "source": [
    "weights = []\n",
    "for x in labels_train.argmax(dim=1):\n",
    "    if x.numpy() == 0:\n",
    "        weights.append(2*w[x.numpy()])\n",
    "    else:\n",
    "        weights.append(w[x.numpy()])"
   ]
  },
  {
   "cell_type": "code",
   "execution_count": 76,
   "metadata": {},
   "outputs": [],
   "source": [
    "from torch.utils.data import WeightedRandomSampler\n",
    "sampler = WeightedRandomSampler(torch.from_numpy(np.array(weights)),samples)\n",
    "train_dataloader = torch.utils.data.DataLoader(ds_train,sampler=sampler,batch_size=16,drop_last=True)\n"
   ]
  },
  {
   "cell_type": "code",
   "execution_count": 77,
   "metadata": {},
   "outputs": [],
   "source": [
    "dataloader_train = train_dataloader"
   ]
  },
  {
   "cell_type": "code",
   "execution_count": 78,
   "metadata": {},
   "outputs": [
    {
     "data": {
      "text/plain": [
       "0    664\n",
       "5    376\n",
       "2    365\n",
       "7    358\n",
       "8    355\n",
       "4    354\n",
       "3    351\n",
       "1    344\n",
       "6    321\n",
       "dtype: int64"
      ]
     },
     "execution_count": 78,
     "metadata": {},
     "output_type": "execute_result"
    }
   ],
   "source": [
    "lab = []\n",
    "for data,labels in dataloader_train:\n",
    "    lab.append(labels.argmax(dim=1).numpy())\n",
    "pd.DataFrame(np.hstack(lab)).value_counts()    \n"
   ]
  },
  {
   "cell_type": "code",
   "execution_count": 79,
   "metadata": {},
   "outputs": [
    {
     "data": {
      "text/plain": [
       "3500"
      ]
     },
     "execution_count": 79,
     "metadata": {},
     "output_type": "execute_result"
    }
   ],
   "source": [
    "samples"
   ]
  },
  {
   "cell_type": "markdown",
   "metadata": {},
   "source": [
    "## Model"
   ]
  },
  {
   "cell_type": "code",
   "execution_count": 80,
   "metadata": {},
   "outputs": [],
   "source": [
    "input_size = 126\n",
    "num_layers = 2\n",
    "hidden_size = 96\n",
    "num_classes = 9\n",
    "learning_rate = 3e-5"
   ]
  },
  {
   "cell_type": "code",
   "execution_count": 81,
   "metadata": {},
   "outputs": [],
   "source": [
    "class RNN(nn.Module):\n",
    "    def __init__(self,input_size,hidden_size,num_layers,num_classes,bid_lstm=False):\n",
    "        super(RNN,self).__init__()\n",
    "        self.hidden_size = hidden_size\n",
    "        self.num_layers = num_layers\n",
    "        h0 = torch.zeros(self.num_layers,16,self.hidden_size).to(device)\n",
    "        c0 = torch.zeros(self.num_layers,16,self.hidden_size).to(device)\n",
    "        self.h0 = nn.Parameter(h0,requires_grad=True)\n",
    "        self.c0 = nn.Parameter(c0,requires_grad=True)\n",
    "        \n",
    "        \n",
    "        \n",
    "        self.lstm = nn.LSTM(input_size,hidden_size,num_layers,batch_first=True,dropout=0.2) \n",
    "        self.fc = nn.Linear(hidden_size, 128)\n",
    "        self.fc2 = nn.Linear(hidden_size, num_classes) \n",
    "    \n",
    "    def forward(self,x):\n",
    "\n",
    "        \n",
    "        # _, (hn, _) = self.lstm(x,(self.h0,self.c0))\n",
    "        # _,hn = self.rnn(x,self.h0)\n",
    "        _, (hn, _) = self.lstm(x,(self.h0,self.c0))\n",
    "        # print(out.shape,hn.shape)\n",
    "        hn = hn[-1]\n",
    "        \n",
    "        # print(hn.shape)\n",
    "        out = F.dropout(hn,p=0.1,training=self.training)\n",
    "        out = self.fc2(out)\n",
    "        return F.log_softmax(out)\n",
    "    \n",
    "    def print_h0(self):\n",
    "        print(self.h0,self.c0)\n",
    "\n",
    "    "
   ]
  },
  {
   "cell_type": "code",
   "execution_count": 82,
   "metadata": {},
   "outputs": [
    {
     "data": {
      "text/plain": [
       "<torch.utils.data.dataset.TensorDataset at 0x7f27203e2830>"
      ]
     },
     "execution_count": 82,
     "metadata": {},
     "output_type": "execute_result"
    }
   ],
   "source": [
    "device = torch.device(\"cuda:0\" if torch.cuda.is_available() else \"cpu\")\n",
    "dataloader_train.dataset"
   ]
  },
  {
   "cell_type": "code",
   "execution_count": 83,
   "metadata": {},
   "outputs": [],
   "source": [
    "net = RNN(input_size,hidden_size,num_layers,num_classes,False) \n",
    "net.to(device)\n",
    "optimizer = optim.Adam(net.parameters(),lr=learning_rate,weight_decay=2e-2)"
   ]
  },
  {
   "cell_type": "code",
   "execution_count": 84,
   "metadata": {},
   "outputs": [],
   "source": [
    "acc = torchmetrics.Accuracy().to(device)\n",
    "f1 = torchmetrics.F1Score(num_classes=9,average='macro').to(device)\n",
    "confmat = torchmetrics.ConfusionMatrix(num_classes=9).to(device)\n"
   ]
  },
  {
   "cell_type": "code",
   "execution_count": 85,
   "metadata": {},
   "outputs": [],
   "source": [
    "def train(epoch):\n",
    "    global train_loss, train_acc, train_f1\n",
    "    net.train()\n",
    "    correct = 0\n",
    "    epoch_loss = 0\n",
    "    ConfusionMatrix = torch.zeros(size=(9,9)).to(device)\n",
    "    f1_score = 0\n",
    "    for batch_idx, (X_train, y_train) in enumerate(dataloader_train):\n",
    "        X_train, y_train = X_train.float().to(device), y_train.to(device)\n",
    "        optimizer.zero_grad()\n",
    "        output = net(X_train)\n",
    "        loss = F.nll_loss(output,y_train.argmax(dim=1))#,weight=weights)\n",
    "        \n",
    "        loss.backward()\n",
    "        optimizer.step()\n",
    "        label = y_train[0].data.argmax()\n",
    "        epoch_loss += loss.item()\n",
    "        pred = torch.exp(output)\n",
    "        \n",
    "        ConfusionMatrix += confmat(pred.argmax(dim=1).to(device),y_train.argmax(dim=1).to(device))\n",
    "        correct += acc(pred.to(device),y_train.argmax(dim=1))#torch.sum(output.argmax(dim=1).eq(y_train.argmax(dim=1)))/output.shape[0]\n",
    "        f1_score += f1(pred.argmax(dim=1).to(device),y_train.argmax(dim=1))\n",
    "    train_loss.append(epoch_loss/len(dataloader_train))\n",
    "    train_acc.append(correct/len(dataloader_train))\n",
    "    train_f1.append(f1_score/len(dataloader_train))\n",
    "    if epoch % 50 == 0 :\n",
    "        print(f'TRAIN Epoch {epoch} Loss: {epoch_loss/len(dataloader_train)} Accuracy: {correct/len(dataloader_train)} F1 : {f1_score/len(dataloader_train)}')\n",
    "        print(f'TRAIN Epoch {epoch} CONF MAT {ConfusionMatrix}')\n"
   ]
  },
  {
   "cell_type": "code",
   "execution_count": 86,
   "metadata": {},
   "outputs": [],
   "source": [
    "def test(epoch,dataloader):\n",
    "    global test_loss, test_acc, test_f1\n",
    "    with torch.no_grad():\n",
    "        net.train(False)\n",
    "        epoch_loss = 0 \n",
    "        accuracy = 0\n",
    "        ConfusionMatrix = torch.zeros(size=(9,9)).to(device)\n",
    "        f1_score = 0\n",
    "        for batch_idx, (X_train, y_train) in enumerate(dataloader):\n",
    "            X_train, y_train = X_train.to(device), y_train.to(device)\n",
    "            output = net(X_train.float())\n",
    "            pred = output[-1].squeeze(0).argmax()\n",
    "            label = y_train[0].data.argmax()\n",
    "            loss = F.nll_loss(output,y_train.argmax(dim=1))#,weight=weights)\n",
    "            epoch_loss += loss.item()\n",
    "            pred = torch.exp(output)\n",
    "            ConfusionMatrix += confmat(pred.argmax(dim=1).to(device),y_train.argmax(dim=1).to(device))\n",
    "        \n",
    "            accuracy += acc(pred.to(device),y_train.argmax(dim=1).to(device))#torch.sum(output.argmax(dim=1).eq(y_train.argmax(dim=1)))/output.shape[0]\n",
    "            f1_score += f1(pred.argmax(dim=1).to(device),y_train.argmax(dim=1).to(device))\n",
    "        test_loss.append(epoch_loss/len(dataloader))\n",
    "        test_acc.append(accuracy/len(dataloader))\n",
    "        test_f1.append(f1_score/len(dataloader))\n",
    "        if epoch % 50 == 0 :\n",
    "            print(f'TEST Epoch {epoch} Loss: {epoch_loss/len(dataloader)}, Accuracy: {accuracy/len(dataloader)} F1 : {f1_score/len(dataloader)} \\n')\n",
    "            print(f'TEST Epoch {epoch} CONF MAT {ConfusionMatrix}\\n')"
   ]
  },
  {
   "cell_type": "code",
   "execution_count": 87,
   "metadata": {},
   "outputs": [
    {
     "name": "stderr",
     "output_type": "stream",
     "text": [
      "/tmp/ipykernel_386095/3103631480.py:29: UserWarning: Implicit dimension choice for log_softmax has been deprecated. Change the call to include dim=X as an argument.\n",
      "  return F.log_softmax(out)\n"
     ]
    },
    {
     "name": "stdout",
     "output_type": "stream",
     "text": [
      "TRAIN Epoch 0 Loss: 2.193599562032507 Accuracy: 0.1249999925494194 F1 : 0.044226307421922684\n",
      "TRAIN Epoch 0 CONF MAT tensor([[177., 467.,   0.,   0.,   9.,   0.,  36.,   0.,   0.],\n",
      "        [ 64., 244.,   0.,   0.,  16.,   0.,  15.,   0.,   0.],\n",
      "        [ 96., 241.,   0.,   0.,  11.,   0.,  12.,   0.,   0.],\n",
      "        [112., 246.,   0.,   0.,  13.,   0.,   9.,   0.,   0.],\n",
      "        [101., 221.,   0.,   0.,  11.,   0.,  11.,   0.,   0.],\n",
      "        [ 52., 267.,   0.,   0.,   5.,   0.,  19.,   0.,   0.],\n",
      "        [ 84., 233.,   0.,   0.,  13.,   0.,   4.,   0.,   0.],\n",
      "        [ 82., 270.,   0.,   0.,   7.,   0.,  14.,   0.,   0.],\n",
      "        [ 59., 224.,   0.,   0.,  14.,   0.,  29.,   0.,   0.]],\n",
      "       device='cuda:0')\n",
      "TEST Epoch 0 Loss: 2.1904134111745015, Accuracy: 0.1026785746216774 F1 : 0.07336995005607605 \n",
      "\n",
      "TEST Epoch 0 CONF MAT tensor([[ 88.,   4.,   0.,   0.,   0.,   0.,   0.,   0.,   0.],\n",
      "        [ 98.,   4.,   0.,   0.,   0.,   0.,   0.,   0.,   0.],\n",
      "        [117.,   0.,   0.,   0.,   0.,   0.,   0.,   0.,   0.],\n",
      "        [151.,   0.,   0.,   0.,   0.,   0.,   0.,   0.,   0.],\n",
      "        [132.,   0.,   0.,   0.,   0.,   0.,   0.,   0.,   0.],\n",
      "        [ 59.,  14.,   0.,   0.,   0.,   0.,   0.,   0.,   0.],\n",
      "        [ 91.,   0.,   0.,   0.,   0.,   0.,   0.,   0.,   0.],\n",
      "        [ 61.,   5.,   0.,   0.,   0.,   0.,   0.,   0.,   0.],\n",
      "        [ 66.,   6.,   0.,   0.,   0.,   0.,   0.,   0.,   0.]],\n",
      "       device='cuda:0')\n",
      "\n",
      "TRAIN Epoch 50 Loss: 1.2060909369669923 Accuracy: 0.5401375889778137 F1 : 0.4772684574127197\n",
      "TRAIN Epoch 50 CONF MAT tensor([[ 95.,  38.,  81.,  80.,  79.,  76.,  48., 118., 124.],\n",
      "        [ 15.,  72.,   0.,   0.,   0.,  78.,   7., 188.,   7.],\n",
      "        [107.,   2., 120.,   0.,  29.,  14.,  28.,  14.,  38.],\n",
      "        [  0.,   0.,   0., 331.,  22.,   0.,   0.,   0.,   0.],\n",
      "        [ 23.,   0.,  11.,  24., 259.,   4.,   3.,   5.,   1.],\n",
      "        [ 41.,  30.,   0.,   0.,   0., 159.,   9.,  78.,  28.],\n",
      "        [ 12.,   2.,   8.,   0.,   0.,   0., 306.,  17.,   0.],\n",
      "        [ 17.,  43.,   3.,   0.,   1.,  21.,  13., 252.,   0.],\n",
      "        [ 12.,   0.,   0.,   0.,   0.,   5.,   0.,   0., 290.]],\n",
      "       device='cuda:0')\n",
      "TEST Epoch 50 Loss: 1.0258790547294276, Accuracy: 0.6473214626312256 F1 : 0.38831469416618347 \n",
      "\n",
      "TEST Epoch 50 CONF MAT tensor([[ 15.,   3.,  20.,  14.,   3.,   8.,  14.,  10.,   5.],\n",
      "        [  1.,  24.,   0.,   0.,   0.,  22.,   2.,  53.,   0.],\n",
      "        [ 15.,   0.,  90.,   0.,  12.,   0.,   0.,   0.,   0.],\n",
      "        [  0.,   0.,   0., 145.,   6.,   0.,   0.,   0.,   0.],\n",
      "        [  0.,   0.,   0.,  49.,  83.,   0.,   0.,   0.,   0.],\n",
      "        [ 13.,   4.,   2.,   0.,   0.,  29.,   0.,   7.,  18.],\n",
      "        [  0.,   0.,   0.,   0.,   0.,   0.,  91.,   0.,   0.],\n",
      "        [  4.,   3.,   1.,   0.,   0.,   3.,   2.,  53.,   0.],\n",
      "        [ 14.,   0.,   0.,   0.,   0.,   8.,   0.,   0.,  50.]],\n",
      "       device='cuda:0')\n",
      "\n",
      "TRAIN Epoch 100 Loss: 0.8844766015306526 Accuracy: 0.7118692398071289 F1 : 0.6511561870574951\n",
      "TRAIN Epoch 100 CONF MAT tensor([[260.,  22.,  65.,  88.,  54.,  39.,  33.,  58.,  84.],\n",
      "        [ 20., 177.,   0.,   0.,   0.,  56.,  12.,  80.,   1.],\n",
      "        [ 77.,   7., 228.,   0.,   8.,   9.,  13.,   3.,  14.],\n",
      "        [  1.,   0.,   0., 338.,  19.,   0.,   0.,   0.,   0.],\n",
      "        [ 24.,   2.,  12.,  13., 296.,   1.,   1.,   3.,   0.],\n",
      "        [ 16.,  34.,   0.,   0.,   0., 270.,   1.,  10.,   0.],\n",
      "        [  5.,  10.,   7.,   0.,   0.,   1., 317.,  10.,   0.],\n",
      "        [ 19.,  30.,   9.,   0.,   2.,   8.,   9., 270.,   0.],\n",
      "        [ 15.,   0.,   0.,   0.,   0.,   0.,   0.,   0., 327.]],\n",
      "       device='cuda:0')\n",
      "TEST Epoch 100 Loss: 0.7497271735753331, Accuracy: 0.8102678656578064 F1 : 0.5305823683738708 \n",
      "\n",
      "TEST Epoch 100 CONF MAT tensor([[ 32.,   2.,   8.,  14.,   0.,  10.,  11.,   8.,   7.],\n",
      "        [  5.,  67.,   0.,   0.,   0.,  20.,   0.,  10.,   0.],\n",
      "        [ 14.,   0., 103.,   0.,   0.,   0.,   0.,   0.,   0.],\n",
      "        [  0.,   0.,   0., 146.,   5.,   0.,   0.,   0.,   0.],\n",
      "        [  0.,   0.,   0.,  34.,  98.,   0.,   0.,   0.,   0.],\n",
      "        [ 10.,   0.,   0.,   0.,   0.,  62.,   0.,   0.,   1.],\n",
      "        [  0.,   0.,   0.,   0.,   0.,   0.,  91.,   0.,   0.],\n",
      "        [  1.,   3.,   1.,   0.,   0.,   2.,   0.,  59.,   0.],\n",
      "        [  4.,   0.,   0.,   0.,   0.,   0.,   0.,   0.,  68.]],\n",
      "       device='cuda:0')\n",
      "\n",
      "TRAIN Epoch 150 Loss: 0.6274199927345329 Accuracy: 0.8030389547348022 F1 : 0.7645189762115479\n",
      "TRAIN Epoch 150 CONF MAT tensor([[318.,  43.,  48.,  83.,  30.,  52.,  28.,  58.,  31.],\n",
      "        [  3., 296.,   0.,   0.,   0.,  22.,   4.,   6.,   1.],\n",
      "        [100.,   1., 239.,   0.,   9.,   2.,   3.,  11.,   6.],\n",
      "        [  1.,   0.,   0., 354.,   3.,   0.,   0.,   0.,   0.],\n",
      "        [ 27.,   0.,  12.,   2., 323.,   0.,   0.,   3.,   0.],\n",
      "        [ 17.,  19.,   0.,   0.,   0., 335.,   3.,   4.,   1.],\n",
      "        [  4.,  12.,   5.,   0.,   0.,   0., 276.,   0.,   0.],\n",
      "        [  4.,   1.,   3.,   0.,   5.,   4.,   0., 344.,   0.],\n",
      "        [ 16.,   0.,   0.,   0.,   0.,   0.,   0.,   0., 316.]],\n",
      "       device='cuda:0')\n",
      "TEST Epoch 150 Loss: 0.5661733541637659, Accuracy: 0.8448660969734192 F1 : 0.5646277070045471 \n",
      "\n",
      "TEST Epoch 150 CONF MAT tensor([[ 27.,   8.,   9.,   7.,   5.,  10.,  11.,   8.,   7.],\n",
      "        [  0., 100.,   0.,   0.,   0.,   2.,   0.,   0.,   0.],\n",
      "        [ 10.,   0., 107.,   0.,   0.,   0.,   0.,   0.,   0.],\n",
      "        [  0.,   0.,   0., 108.,  43.,   0.,   0.,   0.,   0.],\n",
      "        [  3.,   0.,   0.,   9., 120.,   0.,   0.,   0.,   0.],\n",
      "        [  2.,   0.,   0.,   0.,   0.,  71.,   0.,   0.,   0.],\n",
      "        [  0.,   0.,   0.,   0.,   0.,   0.,  91.,   0.,   0.],\n",
      "        [  0.,   0.,   1.,   0.,   0.,   0.,   0.,  65.,   0.],\n",
      "        [  4.,   0.,   0.,   0.,   0.,   0.,   0.,   0.,  68.]],\n",
      "       device='cuda:0')\n",
      "\n",
      "TRAIN Epoch 200 Loss: 0.5597787521984599 Accuracy: 0.8139334321022034 F1 : 0.7774101495742798\n",
      "TRAIN Epoch 200 CONF MAT tensor([[356.,  49.,  45.,  95.,  19.,  39.,  30.,  74.,  27.],\n",
      "        [  6., 327.,   0.,   0.,   0.,  26.,   4.,   4.,   0.],\n",
      "        [ 95.,   0., 212.,   1.,   6.,   1.,   1.,   9.,   3.],\n",
      "        [  7.,   0.,   0., 345.,   4.,   0.,   0.,   0.,   0.],\n",
      "        [ 21.,   0.,   8.,   2., 291.,   0.,   0.,   0.,   0.],\n",
      "        [ 13.,  20.,   0.,   0.,   0., 293.,   8.,   2.,   0.],\n",
      "        [  5.,   5.,   1.,   0.,   0.,   0., 345.,   0.,   0.],\n",
      "        [  3.,   0.,   1.,   0.,   7.,   1.,   0., 326.,   0.],\n",
      "        [  7.,   0.,   0.,   0.,   0.,   0.,   0.,   0., 344.]],\n",
      "       device='cuda:0')\n",
      "TEST Epoch 200 Loss: 0.609544246324471, Accuracy: 0.785714328289032 F1 : 0.4741438925266266 \n",
      "\n",
      "TEST Epoch 200 CONF MAT tensor([[ 32.,   7.,   4.,  10.,   4.,  10.,  12.,   8.,   5.],\n",
      "        [  0.,  99.,   0.,   0.,   0.,   2.,   1.,   0.,   0.],\n",
      "        [ 18.,   0.,  86.,   0.,  13.,   0.,   0.,   0.,   0.],\n",
      "        [  2.,   0.,   0., 116.,  33.,   0.,   0.,   0.,   0.],\n",
      "        [ 16.,   0.,   0.,  23.,  93.,   0.,   0.,   0.,   0.],\n",
      "        [ 10.,   0.,   0.,   0.,   0.,  63.,   0.,   0.,   0.],\n",
      "        [  0.,   0.,   0.,   0.,   0.,   0.,  91.,   0.,   0.],\n",
      "        [  1.,   0.,   0.,   0.,   1.,   0.,   0.,  64.,   0.],\n",
      "        [ 12.,   0.,   0.,   0.,   0.,   0.,   0.,   0.,  60.]],\n",
      "       device='cuda:0')\n",
      "\n",
      "TRAIN Epoch 250 Loss: 0.5061109818586516 Accuracy: 0.8297017812728882 F1 : 0.7967301607131958\n",
      "TRAIN Epoch 250 CONF MAT tensor([[350.,  41.,  43.,  88.,  31.,  36.,  32.,  68.,  31.],\n",
      "        [  9., 323.,   0.,   0.,   0.,   9.,   2.,   2.,   0.],\n",
      "        [ 98.,   0., 244.,   0.,   3.,   2.,   2.,  10.,   2.],\n",
      "        [  7.,   0.,   0., 337.,   3.,   0.,   0.,   0.,   0.],\n",
      "        [ 11.,   0.,   9.,   2., 302.,   0.,   0.,   0.,   0.],\n",
      "        [ 11.,   9.,   0.,   0.,   0., 350.,   2.,   1.,   0.],\n",
      "        [  6.,   8.,   1.,   0.,   0.,   0., 320.,   0.,   0.],\n",
      "        [  2.,   0.,   1.,   0.,   3.,   0.,   0., 331.,   0.],\n",
      "        [  9.,   0.,   0.,   0.,   0.,   0.,   0.,   0., 337.]],\n",
      "       device='cuda:0')\n",
      "TEST Epoch 250 Loss: 0.6839586656008448, Accuracy: 0.777901828289032 F1 : 0.497968465089798 \n",
      "\n",
      "TEST Epoch 250 CONF MAT tensor([[ 36.,   7.,   4.,  12.,   2.,   8.,  12.,   6.,   5.],\n",
      "        [  0.,  91.,   0.,   0.,   0.,   4.,   7.,   0.,   0.],\n",
      "        [ 23.,   0.,  86.,   0.,   8.,   0.,   0.,   0.,   0.],\n",
      "        [  4.,   0.,   0., 144.,   3.,   0.,   0.,   0.,   0.],\n",
      "        [ 20.,   0.,   0.,  39.,  73.,   0.,   0.,   0.,   0.],\n",
      "        [ 14.,   0.,   0.,   0.,   0.,  59.,   0.,   0.,   0.],\n",
      "        [  0.,   0.,   0.,   0.,   0.,   0.,  91.,   0.,   0.],\n",
      "        [  1.,   0.,   0.,   0.,   1.,   0.,   0.,  64.,   0.],\n",
      "        [ 19.,   0.,   0.,   0.,   0.,   0.,   0.,   0.,  53.]],\n",
      "       device='cuda:0')\n",
      "\n",
      "TRAIN Epoch 300 Loss: 0.4663883804454716 Accuracy: 0.8483371138572693 F1 : 0.8138866424560547\n",
      "TRAIN Epoch 300 CONF MAT tensor([[337.,  41.,  46.,  97.,  30.,  34.,  34.,  61.,  20.],\n",
      "        [  9., 344.,   0.,   0.,   0.,   8.,   6.,   1.,   0.],\n",
      "        [ 52.,   0., 246.,   0.,   8.,   1.,   0.,   5.,   3.],\n",
      "        [  4.,   0.,   0., 338.,   2.,   0.,   0.,   0.,   0.],\n",
      "        [ 15.,   0.,   7.,   0., 304.,   0.,   0.,   1.,   0.],\n",
      "        [  7.,   8.,   0.,   0.,   0., 312.,   3.,   2.,   0.],\n",
      "        [  4.,   9.,   0.,   0.,   0.,   0., 333.,   0.,   0.],\n",
      "        [  4.,   0.,   0.,   0.,   2.,   0.,   0., 383.,   0.],\n",
      "        [  5.,   0.,   0.,   0.,   0.,   0.,   0.,   0., 362.]],\n",
      "       device='cuda:0')\n",
      "TEST Epoch 300 Loss: 0.6425009726413659, Accuracy: 0.7879464626312256 F1 : 0.5242424011230469 \n",
      "\n",
      "TEST Epoch 300 CONF MAT tensor([[ 23.,   9.,  13.,   4.,  10.,   8.,  12.,   8.,   5.],\n",
      "        [  0., 100.,   0.,   0.,   0.,   1.,   1.,   0.,   0.],\n",
      "        [  4.,   0., 101.,   0.,  12.,   0.,   0.,   0.,   0.],\n",
      "        [  0.,   0.,   0.,  70.,  81.,   0.,   0.,   0.,   0.],\n",
      "        [  1.,   0.,   0.,   6., 125.,   0.,   0.,   0.,   0.],\n",
      "        [  2.,   0.,   0.,   0.,   0.,  71.,   0.,   0.,   0.],\n",
      "        [  2.,   0.,   0.,   0.,   0.,   0.,  89.,   0.,   0.],\n",
      "        [  0.,   3.,   0.,   0.,   0.,   0.,   0.,  63.,   0.],\n",
      "        [  8.,   0.,   0.,   0.,   0.,   0.,   0.,   0.,  64.]],\n",
      "       device='cuda:0')\n",
      "\n",
      "TRAIN Epoch 350 Loss: 0.4280622699938783 Accuracy: 0.8618118762969971 F1 : 0.8339913487434387\n",
      "TRAIN Epoch 350 CONF MAT tensor([[346.,  35.,  49.,  88.,  24.,  44.,  27.,  53.,  15.],\n",
      "        [  5., 346.,   0.,   0.,   0.,  13.,   3.,   0.,   0.],\n",
      "        [ 44.,   0., 297.,   0.,   6.,   0.,   0.,   1.,   1.],\n",
      "        [  6.,   0.,   0., 341.,   0.,   0.,   0.,   0.,   0.],\n",
      "        [ 13.,   0.,   9.,   0., 337.,   0.,   0.,   1.,   0.],\n",
      "        [ 15.,   6.,   0.,   0.,   0., 315.,   3.,   2.,   0.],\n",
      "        [  3.,   6.,   1.,   0.,   0.,   0., 329.,   0.,   0.],\n",
      "        [  5.,   0.,   2.,   0.,   0.,   0.,   0., 355.,   0.],\n",
      "        [  2.,   0.,   0.,   0.,   0.,   0.,   0.,   0., 340.]],\n",
      "       device='cuda:0')\n",
      "TEST Epoch 350 Loss: 0.6331945498074804, Accuracy: 0.8035714626312256 F1 : 0.5383235216140747 \n",
      "\n",
      "TEST Epoch 350 CONF MAT tensor([[ 32.,   9.,   8.,  12.,   2.,   6.,  12.,   6.,   5.],\n",
      "        [  0.,  94.,   0.,   0.,   0.,   1.,   7.,   0.,   0.],\n",
      "        [ 15.,   0., 102.,   0.,   0.,   0.,   0.,   0.,   0.],\n",
      "        [  4.,   0.,   0., 143.,   4.,   0.,   0.,   0.,   0.],\n",
      "        [ 25.,   0.,   0.,  44.,  63.,   0.,   0.,   0.,   0.],\n",
      "        [  4.,   0.,   0.,   0.,   0.,  69.,   0.,   0.,   0.],\n",
      "        [  0.,   0.,   0.,   0.,   0.,   0.,  91.,   0.,   0.],\n",
      "        [  0.,   1.,   0.,   0.,   4.,   0.,   0.,  61.,   0.],\n",
      "        [  7.,   0.,   0.,   0.,   0.,   0.,   0.,   0.,  65.]],\n",
      "       device='cuda:0')\n",
      "\n",
      "TRAIN Epoch 400 Loss: 0.41988616959627617 Accuracy: 0.8557912707328796 F1 : 0.8229256868362427\n",
      "TRAIN Epoch 400 CONF MAT tensor([[322.,  41.,  58.,  91.,  35.,  45.,  35.,  57.,  18.],\n",
      "        [  9., 327.,   0.,   0.,   0.,   6.,   2.,   0.,   0.],\n",
      "        [ 38.,   1., 297.,   0.,   1.,   0.,   0.,   2.,   1.],\n",
      "        [ 11.,   0.,   0., 359.,   3.,   0.,   0.,   0.,   0.],\n",
      "        [ 17.,   0.,   2.,   3., 317.,   0.,   0.,   0.,   0.],\n",
      "        [  9.,   2.,   0.,   0.,   0., 344.,   1.,   1.,   0.],\n",
      "        [  7.,   3.,   0.,   0.,   0.,   1., 304.,   0.,   0.],\n",
      "        [  2.,   0.,   0.,   0.,   0.,   0.,   0., 375.,   0.],\n",
      "        [  1.,   0.,   0.,   0.,   0.,   0.,   0.,   0., 340.]],\n",
      "       device='cuda:0')\n",
      "TEST Epoch 400 Loss: 0.5936327785519617, Accuracy: 0.8203125596046448 F1 : 0.561525821685791 \n",
      "\n",
      "TEST Epoch 400 CONF MAT tensor([[ 34.,   9.,   6.,  12.,   2.,   6.,  12.,   6.,   5.],\n",
      "        [  0., 101.,   0.,   0.,   0.,   0.,   1.,   0.,   0.],\n",
      "        [ 20.,   0.,  97.,   0.,   0.,   0.,   0.,   0.,   0.],\n",
      "        [  4.,   0.,   0., 140.,   7.,   0.,   0.,   0.,   0.],\n",
      "        [ 25.,   0.,   0.,  35.,  72.,   0.,   0.,   0.,   0.],\n",
      "        [  2.,   0.,   0.,   0.,   0.,  71.,   0.,   0.,   0.],\n",
      "        [  0.,   0.,   0.,   0.,   0.,   0.,  91.,   0.,   0.],\n",
      "        [  2.,   1.,   0.,   0.,   1.,   0.,   0.,  62.,   0.],\n",
      "        [  5.,   0.,   0.,   0.,   0.,   0.,   0.,   0.,  67.]],\n",
      "       device='cuda:0')\n",
      "\n",
      "TRAIN Epoch 450 Loss: 0.39898066188490716 Accuracy: 0.8686926364898682 F1 : 0.8428505063056946\n",
      "TRAIN Epoch 450 CONF MAT tensor([[334.,  39.,  46.,  84.,  27.,  39.,  25.,  61.,  23.],\n",
      "        [  3., 360.,   0.,   0.,   0.,   2.,   6.,   2.,   0.],\n",
      "        [ 39.,   1., 304.,   0.,   2.,   0.,   0.,   0.,   1.],\n",
      "        [  5.,   0.,   0., 375.,   3.,   0.,   0.,   0.,   0.],\n",
      "        [ 15.,   0.,   2.,   1., 346.,   0.,   0.,   0.,   0.],\n",
      "        [ 10.,   1.,   0.,   0.,   0., 311.,   2.,   1.,   0.],\n",
      "        [  1.,   6.,   0.,   0.,   0.,   0., 319.,   0.,   0.],\n",
      "        [  3.,   0.,   0.,   0.,   4.,   0.,   0., 343.,   0.],\n",
      "        [  4.,   0.,   0.,   0.,   0.,   0.,   0.,   0., 338.]],\n",
      "       device='cuda:0')\n",
      "TEST Epoch 450 Loss: 0.556093670028661, Accuracy: 0.8035714626312256 F1 : 0.48614227771759033 \n",
      "\n",
      "TEST Epoch 450 CONF MAT tensor([[ 27.,   9.,   9.,  11.,   5.,   8.,  12.,   6.,   5.],\n",
      "        [  0.,  96.,   0.,   0.,   0.,   0.,   6.,   0.,   0.],\n",
      "        [ 12.,   0., 101.,   0.,   4.,   0.,   0.,   0.,   0.],\n",
      "        [  2.,   0.,   0., 126.,  23.,   0.,   0.,   0.,   0.],\n",
      "        [  4.,   0.,   0.,  40.,  88.,   0.,   0.,   0.,   0.],\n",
      "        [  3.,   0.,   0.,   0.,   0.,  70.,   0.,   0.,   0.],\n",
      "        [  0.,   0.,   0.,   0.,   0.,   0.,  91.,   0.,   0.],\n",
      "        [  0.,   1.,   0.,   0.,   4.,   0.,   0.,  61.,   0.],\n",
      "        [ 10.,   0.,   2.,   0.,   0.,   0.,   0.,   0.,  60.]],\n",
      "       device='cuda:0')\n",
      "\n",
      "TRAIN Epoch 500 Loss: 0.407831992578069 Accuracy: 0.8661123514175415 F1 : 0.8387249708175659\n",
      "TRAIN Epoch 500 CONF MAT tensor([[360.,  33.,  47.,  77.,  39.,  41.,  31.,  47.,  14.],\n",
      "        [  6., 338.,   0.,   0.,   0.,   3.,   5.,   3.,   0.],\n",
      "        [ 45.,   0., 289.,   0.,   2.,   0.,   1.,   0.,   2.],\n",
      "        [  8.,   0.,   0., 334.,   0.,   0.,   0.,   0.,   0.],\n",
      "        [ 18.,   0.,   1.,   1., 316.,   0.,   1.,   0.,   0.],\n",
      "        [  5.,   2.,   0.,   0.,   0., 343.,   2.,   4.,   0.],\n",
      "        [  8.,   6.,   1.,   0.,   0.,   1., 366.,   0.,   0.],\n",
      "        [  3.,   1.,   1.,   0.,   2.,   0.,   0., 323.,   0.],\n",
      "        [  6.,   0.,   0.,   0.,   0.,   0.,   0.,   0., 352.]],\n",
      "       device='cuda:0')\n",
      "TEST Epoch 500 Loss: 0.6651474647223949, Accuracy: 0.7834821939468384 F1 : 0.5604759454727173 \n",
      "\n",
      "TEST Epoch 500 CONF MAT tensor([[ 27.,   9.,   9.,   3.,  11.,   8.,  12.,   8.,   5.],\n",
      "        [  0., 100.,   0.,   0.,   0.,   1.,   1.,   0.,   0.],\n",
      "        [  5.,   0., 106.,   0.,   6.,   0.,   0.,   0.,   0.],\n",
      "        [  0.,   0.,   0.,  48., 103.,   0.,   0.,   0.,   0.],\n",
      "        [  1.,   0.,   0.,   2., 129.,   0.,   0.,   0.,   0.],\n",
      "        [  2.,   0.,   0.,   0.,   0.,  71.,   0.,   0.,   0.],\n",
      "        [  0.,   0.,   0.,   0.,   0.,   0.,  91.,   0.,   0.],\n",
      "        [  0.,   1.,   0.,   0.,   0.,   0.,   0.,  65.,   0.],\n",
      "        [  5.,   0.,   2.,   0.,   0.,   0.,   0.,   0.,  65.]],\n",
      "       device='cuda:0')\n",
      "\n",
      "TRAIN Epoch 550 Loss: 0.38006304635093846 Accuracy: 0.8718463182449341 F1 : 0.838363528251648\n",
      "TRAIN Epoch 550 CONF MAT tensor([[345.,  37.,  46.,  94.,  21.,  45.,  20.,  60.,  13.],\n",
      "        [  7., 323.,   0.,   0.,   0.,   4.,   7.,   3.,   0.],\n",
      "        [ 37.,   0., 291.,   0.,   1.,   0.,   2.,   0.,   3.],\n",
      "        [  9.,   0.,   0., 332.,   0.,   0.,   0.,   0.,   0.],\n",
      "        [  8.,   0.,   1.,   0., 292.,   0.,   0.,   2.,   0.],\n",
      "        [  2.,   3.,   0.,   0.,   0., 382.,   2.,   5.,   0.],\n",
      "        [  2.,   1.,   1.,   0.,   0.,   2., 366.,   0.,   0.],\n",
      "        [  5.,   0.,   0.,   0.,   0.,   0.,   0., 372.,   0.],\n",
      "        [  4.,   0.,   0.,   0.,   0.,   0.,   0.,   0., 338.]],\n",
      "       device='cuda:0')\n",
      "TEST Epoch 550 Loss: 0.7143308507012469, Accuracy: 0.7589285969734192 F1 : 0.4930740296840668 \n",
      "\n",
      "TEST Epoch 550 CONF MAT tensor([[ 37.,   9.,   4.,   9.,   1.,   8.,  12.,   7.,   5.],\n",
      "        [  0., 100.,   0.,   0.,   0.,   2.,   0.,   0.,   0.],\n",
      "        [ 52.,   0.,  64.,   0.,   0.,   0.,   1.,   0.,   0.],\n",
      "        [  6.,   0.,   0., 119.,  26.,   0.,   0.,   0.,   0.],\n",
      "        [ 28.,   0.,   0.,  17.,  87.,   0.,   0.,   0.,   0.],\n",
      "        [  2.,   0.,   0.,   0.,   0.,  71.,   0.,   0.,   0.],\n",
      "        [  0.,   0.,   0.,   0.,   0.,   3.,  88.,   0.,   0.],\n",
      "        [  8.,   3.,   0.,   0.,   0.,   0.,   0.,  55.,   0.],\n",
      "        [ 13.,   0.,   0.,   0.,   0.,   0.,   0.,   0.,  59.]],\n",
      "       device='cuda:0')\n",
      "\n",
      "TRAIN Epoch 600 Loss: 0.35169284975309983 Accuracy: 0.88675457239151 F1 : 0.860077440738678\n",
      "TRAIN Epoch 600 CONF MAT tensor([[379.,  40.,  52.,  63.,  23.,  35.,  35.,  44.,  13.],\n",
      "        [  6., 341.,   0.,   0.,   0.,   0.,   3.,   0.,   0.],\n",
      "        [ 39.,   1., 299.,   0.,   1.,   0.,   1.,   0.,   0.],\n",
      "        [  2.,   0.,   0., 348.,   3.,   0.,   0.,   0.,   0.],\n",
      "        [ 12.,   0.,   0.,   0., 320.,   0.,   0.,   1.,   0.],\n",
      "        [  9.,   1.,   0.,   0.,   0., 343.,   2.,   0.,   0.],\n",
      "        [  1.,   4.,   0.,   0.,   0.,   0., 338.,   0.,   0.],\n",
      "        [  1.,   0.,   0.,   0.,   0.,   0.,   0., 357.,   0.],\n",
      "        [  3.,   0.,   0.,   0.,   0.,   0.,   0.,   0., 368.]],\n",
      "       device='cuda:0')\n",
      "TEST Epoch 600 Loss: 0.6381260494568518, Accuracy: 0.7801339626312256 F1 : 0.5191624164581299 \n",
      "\n",
      "TEST Epoch 600 CONF MAT tensor([[ 33.,   7.,   7.,   7.,   5.,  10.,  12.,   6.,   5.],\n",
      "        [  0.,  95.,   0.,   0.,   0.,   4.,   3.,   0.,   0.],\n",
      "        [ 22.,   0.,  95.,   0.,   0.,   0.,   0.,   0.,   0.],\n",
      "        [  4.,   0.,   0.,  93.,  54.,   0.,   0.,   0.,   0.],\n",
      "        [ 16.,   0.,   0.,  13., 103.,   0.,   0.,   0.,   0.],\n",
      "        [  2.,   0.,   0.,   0.,   0.,  71.,   0.,   0.,   0.],\n",
      "        [  0.,   0.,   0.,   0.,   0.,   0.,  91.,   0.,   0.],\n",
      "        [  4.,   1.,   0.,   0.,   0.,   0.,   0.,  61.,   0.],\n",
      "        [ 13.,   0.,   2.,   0.,   0.,   0.,   0.,   0.,  57.]],\n",
      "       device='cuda:0')\n",
      "\n",
      "TRAIN Epoch 650 Loss: 0.38569978258888654 Accuracy: 0.8669724464416504 F1 : 0.8437490463256836\n",
      "TRAIN Epoch 650 CONF MAT tensor([[364.,  31.,  62.,  80.,  29.,  51.,  23.,  49.,  23.],\n",
      "        [  3., 303.,   0.,   0.,   0.,   4.,   4.,   0.,   0.],\n",
      "        [ 34.,   0., 347.,   0.,   0.,   0.,   0.,   0.,   0.],\n",
      "        [ 10.,   0.,   0., 332.,   3.,   0.,   0.,   0.,   0.],\n",
      "        [ 13.,   0.,   1.,   1., 345.,   0.,   0.,   0.,   0.],\n",
      "        [  5.,   0.,   0.,   0.,   0., 341.,   5.,   3.,   0.],\n",
      "        [  5.,   5.,   3.,   0.,   0.,   0., 324.,   0.,   0.],\n",
      "        [  8.,   0.,   1.,   0.,   1.,   0.,   0., 320.,   0.],\n",
      "        [  6.,   0.,   1.,   0.,   0.,   0.,   0.,   0., 348.]],\n",
      "       device='cuda:0')\n",
      "TEST Epoch 650 Loss: 0.878656170863126, Accuracy: 0.7276785969734192 F1 : 0.525865912437439 \n",
      "\n",
      "TEST Epoch 650 CONF MAT tensor([[ 29.,   7.,   7.,   2.,  13.,  10.,  12.,   7.,   5.],\n",
      "        [  0.,  95.,   0.,   0.,   0.,   4.,   3.,   0.,   0.],\n",
      "        [ 17.,   0.,  95.,   0.,   5.,   0.,   0.,   0.,   0.],\n",
      "        [  0.,   0.,   0.,  19., 132.,   0.,   0.,   0.,   0.],\n",
      "        [  0.,   0.,   0.,   1., 131.,   0.,   0.,   0.,   0.],\n",
      "        [  2.,   0.,   0.,   0.,   0.,  71.,   0.,   0.,   0.],\n",
      "        [  1.,   0.,   0.,   0.,   0.,   7.,  83.,   0.,   0.],\n",
      "        [  0.,   1.,   0.,   0.,   0.,   0.,   0.,  65.,   0.],\n",
      "        [  8.,   0.,   0.,   0.,   0.,   0.,   0.,   0.,  64.]],\n",
      "       device='cuda:0')\n",
      "\n",
      "TRAIN Epoch 700 Loss: 0.34191764081153303 Accuracy: 0.8881880640983582 F1 : 0.869712233543396\n",
      "TRAIN Epoch 700 CONF MAT tensor([[387.,  37.,  57.,  63.,  25.,  36.,  21.,  40.,  10.],\n",
      "        [  5., 346.,   0.,   0.,   0.,   1.,   1.,   1.,   0.],\n",
      "        [ 50.,   1., 305.,   0.,   0.,   0.,   0.,   0.,   1.],\n",
      "        [  7.,   0.,   0., 328.,   4.,   0.,   0.,   0.,   0.],\n",
      "        [  9.,   0.,   0.,   3., 338.,   0.,   0.,   0.,   0.],\n",
      "        [  7.,   0.,   0.,   0.,   0., 330.,   2.,   0.,   0.],\n",
      "        [  1.,   3.,   0.,   0.,   0.,   0., 375.,   0.,   0.],\n",
      "        [  1.,   0.,   0.,   0.,   0.,   0.,   0., 332.,   0.],\n",
      "        [  4.,   0.,   0.,   0.,   0.,   0.,   0.,   0., 357.]],\n",
      "       device='cuda:0')\n",
      "TEST Epoch 700 Loss: 0.6340636728065354, Accuracy: 0.7879464626312256 F1 : 0.499790757894516 \n",
      "\n",
      "TEST Epoch 700 CONF MAT tensor([[ 31.,   9.,   7.,  12.,   2.,   8.,  12.,   6.,   5.],\n",
      "        [  0.,  97.,   0.,   0.,   0.,   2.,   3.,   0.,   0.],\n",
      "        [ 29.,   0.,  83.,   0.,   5.,   0.,   0.,   0.,   0.],\n",
      "        [  4.,   0.,   0., 127.,  20.,   0.,   0.,   0.,   0.],\n",
      "        [  7.,   0.,   0.,  41.,  84.,   0.,   0.,   0.,   0.],\n",
      "        [  2.,   0.,   0.,   0.,   0.,  71.,   0.,   0.,   0.],\n",
      "        [  0.,   0.,   0.,   0.,   0.,   2.,  89.,   0.,   0.],\n",
      "        [  4.,   1.,   0.,   0.,   0.,   0.,   0.,  61.,   0.],\n",
      "        [  9.,   0.,   0.,   0.,   0.,   0.,   0.,   0.,  63.]],\n",
      "       device='cuda:0')\n",
      "\n",
      "TRAIN Epoch 750 Loss: 0.3492042783545245 Accuracy: 0.8887614011764526 F1 : 0.8694361448287964\n",
      "TRAIN Epoch 750 CONF MAT tensor([[368.,  36.,  55.,  63.,  26.,  35.,  30.,  49.,  22.],\n",
      "        [  2., 364.,   0.,   0.,   0.,   1.,   1.,   0.,   0.],\n",
      "        [ 31.,   0., 310.,   0.,   0.,   0.,   0.,   0.,   2.],\n",
      "        [ 10.,   0.,   0., 330.,   1.,   0.,   0.,   0.,   0.],\n",
      "        [  5.,   0.,   1.,   2., 370.,   0.,   0.,   0.,   0.],\n",
      "        [  3.,   0.,   0.,   0.,   0., 343.,   0.,   2.,   0.],\n",
      "        [  2.,   1.,   0.,   0.,   0.,   0., 350.,   0.,   0.],\n",
      "        [  2.,   0.,   0.,   0.,   1.,   0.,   0., 330.,   0.],\n",
      "        [  4.,   0.,   1.,   0.,   0.,   0.,   0.,   0., 335.]],\n",
      "       device='cuda:0')\n",
      "TEST Epoch 750 Loss: 0.7098864716078553, Accuracy: 0.7477678656578064 F1 : 0.4788546562194824 \n",
      "\n",
      "TEST Epoch 750 CONF MAT tensor([[ 40.,   9.,   7.,  10.,   2.,   8.,   5.,   6.,   5.],\n",
      "        [  0.,  99.,   0.,   0.,   0.,   2.,   1.,   0.,   0.],\n",
      "        [ 24.,   0.,  85.,   0.,   8.,   0.,   0.,   0.,   0.],\n",
      "        [  4.,   0.,   0., 127.,  20.,   0.,   0.,   0.,   0.],\n",
      "        [ 12.,   0.,   0.,  36.,  84.,   0.,   0.,   0.,   0.],\n",
      "        [  4.,   0.,   0.,   0.,   0.,  69.,   0.,   0.,   0.],\n",
      "        [ 36.,   0.,   0.,   0.,   0.,   6.,  49.,   0.,   0.],\n",
      "        [  8.,   1.,   0.,   0.,   3.,   0.,   0.,  54.,   0.],\n",
      "        [  7.,   0.,   2.,   0.,   0.,   0.,   0.,   0.,  63.]],\n",
      "       device='cuda:0')\n",
      "\n",
      "TRAIN Epoch 800 Loss: 0.36261106084246153 Accuracy: 0.8787270188331604 F1 : 0.8492926359176636\n",
      "TRAIN Epoch 800 CONF MAT tensor([[365.,  37.,  57.,  56.,  26.,  49.,  23.,  47.,  21.],\n",
      "        [  4., 323.,   0.,   0.,   0.,   1.,   6.,   1.,   0.],\n",
      "        [ 38.,   0., 312.,   0.,   1.,   0.,   0.,   0.,   1.],\n",
      "        [ 14.,   0.,   0., 354.,   0.,   0.,   0.,   0.,   0.],\n",
      "        [ 10.,   0.,   0.,   1., 324.,   0.,   0.,   0.,   0.],\n",
      "        [  5.,   1.,   0.,   0.,   0., 340.,   4.,   1.,   0.],\n",
      "        [  2.,   7.,   2.,   0.,   0.,   1., 338.,   0.,   0.],\n",
      "        [  2.,   0.,   0.,   0.,   0.,   1.,   0., 359.,   0.],\n",
      "        [  3.,   0.,   1.,   0.,   0.,   0.,   0.,   0., 350.]],\n",
      "       device='cuda:0')\n",
      "TEST Epoch 800 Loss: 0.6206774434873036, Accuracy: 0.7924107313156128 F1 : 0.5010784864425659 \n",
      "\n",
      "TEST Epoch 800 CONF MAT tensor([[ 29.,   9.,   7.,  10.,   0.,   8.,  12.,   8.,   9.],\n",
      "        [  0., 101.,   0.,   0.,   0.,   1.,   0.,   0.,   0.],\n",
      "        [ 31.,   0.,  86.,   0.,   0.,   0.,   0.,   0.,   0.],\n",
      "        [  8.,   0.,   0., 118.,  25.,   0.,   0.,   0.,   0.],\n",
      "        [ 18.,   0.,   0.,  29.,  85.,   0.,   0.,   0.,   0.],\n",
      "        [  2.,   0.,   0.,   0.,   0.,  71.,   0.,   0.,   0.],\n",
      "        [  0.,   0.,   0.,   0.,   0.,   8.,  83.,   0.,   0.],\n",
      "        [  0.,   1.,   0.,   0.,   0.,   0.,   0.,  65.,   0.],\n",
      "        [  0.,   0.,   0.,   0.,   0.,   0.,   0.,   0.,  72.]],\n",
      "       device='cuda:0')\n",
      "\n",
      "TRAIN Epoch 850 Loss: 0.34709315261709583 Accuracy: 0.8876146674156189 F1 : 0.860357940196991\n",
      "TRAIN Epoch 850 CONF MAT tensor([[435.,  36.,  50.,  62.,  18.,  34.,  22.,  55.,  24.],\n",
      "        [  6., 330.,   0.,   0.,   0.,   1.,   1.,   0.,   0.],\n",
      "        [ 31.,   0., 312.,   0.,   1.,   0.,   0.,   0.,   1.],\n",
      "        [ 13.,   0.,   0., 348.,   0.,   0.,   0.,   0.,   0.],\n",
      "        [  8.,   0.,   1.,   0., 316.,   0.,   0.,   1.,   0.],\n",
      "        [  7.,   0.,   0.,   0.,   0., 344.,   1.,   2.,   0.],\n",
      "        [  1.,   2.,   0.,   0.,   0.,   1., 344.,   0.,   0.],\n",
      "        [  5.,   0.,   0.,   0.,   1.,   0.,   0., 332.,   0.],\n",
      "        [  7.,   0.,   0.,   0.,   0.,   0.,   0.,   0., 335.]],\n",
      "       device='cuda:0')\n",
      "TEST Epoch 850 Loss: 0.7159953253077609, Accuracy: 0.7589285969734192 F1 : 0.528835654258728 \n",
      "\n",
      "TEST Epoch 850 CONF MAT tensor([[ 29.,   9.,   7.,   6.,   8.,   8.,  12.,   6.,   7.],\n",
      "        [  0.,  99.,   0.,   0.,   0.,   2.,   1.,   0.,   0.],\n",
      "        [ 23.,   0.,  94.,   0.,   0.,   0.,   0.,   0.,   0.],\n",
      "        [  2.,   0.,   0.,  63.,  86.,   0.,   0.,   0.,   0.],\n",
      "        [  9.,   0.,   0.,   8., 115.,   0.,   0.,   0.,   0.],\n",
      "        [  2.,   0.,   0.,   0.,   0.,  71.,   0.,   0.,   0.],\n",
      "        [  6.,   0.,   0.,   0.,   0.,  10.,  75.,   0.,   0.],\n",
      "        [  0.,   1.,   0.,   0.,   0.,   0.,   0.,  65.,   0.],\n",
      "        [  3.,   0.,   0.,   0.,   0.,   0.,   0.,   0.,  69.]],\n",
      "       device='cuda:0')\n",
      "\n",
      "TRAIN Epoch 900 Loss: 0.3497191011017069 Accuracy: 0.8784403204917908 F1 : 0.8557819128036499\n",
      "TRAIN Epoch 900 CONF MAT tensor([[365.,  41.,  64.,  63.,  28.,  41.,  29.,  48.,   9.],\n",
      "        [  7., 328.,   0.,   0.,   0.,   2.,   0.,   0.,   0.],\n",
      "        [ 31.,   0., 313.,   0.,   0.,   0.,   1.,   0.,   1.],\n",
      "        [ 15.,   0.,   0., 354.,   1.,   0.,   0.,   0.,   0.],\n",
      "        [ 12.,   0.,   0.,   0., 317.,   0.,   0.,   2.,   0.],\n",
      "        [  4.,   4.,   0.,   0.,   0., 356.,   3.,   0.,   0.],\n",
      "        [  6.,   3.,   0.,   0.,   0.,   0., 346.,   0.,   0.],\n",
      "        [  4.,   0.,   0.,   0.,   1.,   0.,   0., 350.,   0.],\n",
      "        [  4.,   0.,   0.,   0.,   0.,   0.,   0.,   0., 335.]],\n",
      "       device='cuda:0')\n",
      "TEST Epoch 900 Loss: 0.7658945846238306, Accuracy: 0.7321428656578064 F1 : 0.48612645268440247 \n",
      "\n",
      "TEST Epoch 900 CONF MAT tensor([[ 42.,   9.,   4.,  10.,   2.,   8.,   6.,   6.,   5.],\n",
      "        [  0., 101.,   0.,   0.,   0.,   1.,   0.,   0.,   0.],\n",
      "        [ 41.,   0.,  76.,   0.,   0.,   0.,   0.,   0.,   0.],\n",
      "        [ 11.,   0.,   0., 131.,   9.,   0.,   0.,   0.,   0.],\n",
      "        [ 38.,   0.,   0.,  31.,  63.,   0.,   0.,   0.,   0.],\n",
      "        [  2.,   0.,   0.,   0.,   0.,  71.,   0.,   0.,   0.],\n",
      "        [ 27.,   0.,   0.,   0.,   0.,   6.,  58.,   0.,   0.],\n",
      "        [  7.,   1.,   0.,   0.,   0.,   0.,   0.,  58.,   0.],\n",
      "        [ 16.,   0.,   0.,   0.,   0.,   0.,   0.,   0.,  56.]],\n",
      "       device='cuda:0')\n",
      "\n",
      "TRAIN Epoch 950 Loss: 0.32408619282442497 Accuracy: 0.8944953680038452 F1 : 0.8734434843063354\n",
      "TRAIN Epoch 950 CONF MAT tensor([[406.,  40.,  45.,  57.,  22.,  31.,  22.,  49.,  14.],\n",
      "        [  8., 356.,   0.,   0.,   0.,   2.,   3.,   0.,   0.],\n",
      "        [ 28.,   0., 281.,   0.,   1.,   0.,   0.,   0.,   1.],\n",
      "        [ 20.,   0.,   0., 326.,   0.,   0.,   0.,   0.,   0.],\n",
      "        [  8.,   0.,   1.,   0., 344.,   0.,   0.,   0.,   0.],\n",
      "        [  3.,   0.,   0.,   0.,   0., 335.,   3.,   1.,   0.],\n",
      "        [  2.,   1.,   0.,   0.,   0.,   1., 351.,   0.,   0.],\n",
      "        [  2.,   0.,   0.,   0.,   0.,   0.,   0., 334.,   0.],\n",
      "        [  3.,   0.,   0.,   0.,   0.,   0.,   0.,   0., 387.]],\n",
      "       device='cuda:0')\n",
      "TEST Epoch 950 Loss: 0.6673616711050272, Accuracy: 0.7823660969734192 F1 : 0.5107295513153076 \n",
      "\n",
      "TEST Epoch 950 CONF MAT tensor([[ 34.,   9.,   6.,  10.,   2.,   8.,  12.,   6.,   5.],\n",
      "        [  0., 102.,   0.,   0.,   0.,   0.,   0.,   0.,   0.],\n",
      "        [ 30.,   0.,  87.,   0.,   0.,   0.,   0.,   0.,   0.],\n",
      "        [  4.,   0.,   0., 126.,  21.,   0.,   0.,   0.,   0.],\n",
      "        [  9.,   0.,   0.,  41.,  82.,   0.,   0.,   0.,   0.],\n",
      "        [  2.,   0.,   0.,   0.,   0.,  71.,   0.,   0.,   0.],\n",
      "        [  2.,   0.,   0.,   0.,   0.,   6.,  83.,   0.,   0.],\n",
      "        [  0.,   1.,   0.,   0.,   0.,   0.,   0.,  65.,   0.],\n",
      "        [ 20.,   1.,   0.,   0.,   0.,   0.,   0.,   0.,  51.]],\n",
      "       device='cuda:0')\n",
      "\n"
     ]
    }
   ],
   "source": [
    "train_loss = []\n",
    "test_loss = []\n",
    "\n",
    "train_acc = []\n",
    "test_acc = []\n",
    "\n",
    "train_f1 = []\n",
    "test_f1 = []\n",
    "\n",
    "for i in range(1000):  \n",
    "    train(i)\n",
    "    test(i,dataloader_valid)"
   ]
  },
  {
   "cell_type": "code",
   "execution_count": null,
   "metadata": {},
   "outputs": [],
   "source": [
    "test(50,dataloader_test)"
   ]
  },
  {
   "cell_type": "code",
   "execution_count": null,
   "metadata": {},
   "outputs": [],
   "source": [
    "torch.save(net.state_dict(), './L2H96_W30Overlap15/net9classes_alldata')"
   ]
  },
  {
   "cell_type": "code",
   "execution_count": null,
   "metadata": {},
   "outputs": [],
   "source": [
    "def smoothe(x:list,alpha=0.9):\n",
    "    smoothed_x = [x[0]]\n",
    "    for i in range(1,len(x)):\n",
    "        smoothed_x.append(alpha*smoothed_x[i-1] + x[i-1]*(1-alpha))\n",
    "    return smoothed_x\n",
    "\n",
    "train_acc, test_acc = [x.cpu().numpy() for x in train_acc], [x.cpu().numpy() for x in test_acc] \n",
    "train_f1, test_f1 = [x.cpu().numpy() for x in train_f1], [x.cpu().numpy() for x in test_f1] "
   ]
  },
  {
   "cell_type": "code",
   "execution_count": null,
   "metadata": {},
   "outputs": [],
   "source": [
    "smoothing_param = 0.9\n",
    "\n",
    "train_loss_sm = smoothe(train_loss,alpha=smoothing_param)\n",
    "test_loss_sm = smoothe(test_loss,alpha=smoothing_param)\n",
    "\n",
    "train_acc_sm = smoothe(train_acc,alpha=smoothing_param)\n",
    "test_acc_sm = smoothe(test_acc,alpha=smoothing_param)\n",
    "\n",
    "train_f1_sm = smoothe(train_f1,alpha=smoothing_param)\n",
    "test_f1_sm = smoothe(test_f1,alpha=smoothing_param)"
   ]
  },
  {
   "cell_type": "code",
   "execution_count": 35,
   "metadata": {},
   "outputs": [
    {
     "data": {
      "text/plain": [
       "Text(0.5, 1.0, 'F1')"
      ]
     },
     "execution_count": 35,
     "metadata": {},
     "output_type": "execute_result"
    },
    {
     "data": {
      "image/png": "[encoded data removed]",
      "text/plain": [
       "<Figure size 1080x432 with 3 Axes>"
      ]
     },
     "metadata": {
      "needs_background": "light"
     },
     "output_type": "display_data"
    }
   ],
   "source": [
    "import matplotlib.pyplot as plt\n",
    "epochs = 1000\n",
    "\n",
    "fig, (ax1, ax2,ax3) = plt.subplots(1,3,figsize=(15,6))\n",
    "ax1.plot(range(epochs),train_loss_sm,label='train')\n",
    "ax1.plot(range(epochs),test_loss_sm,label='test')\n",
    "ax1.legend()\n",
    "ax1.set_title('LOSS')\n",
    "\n",
    "\n",
    "ax2.plot(range(epochs),train_acc_sm,label='train')\n",
    "ax2.plot(range(epochs),test_acc_sm,label='test')\n",
    "ax2.legend()\n",
    "ax2.set_title('ACCURACY')\n",
    "\n",
    "ax3.plot(range(epochs),train_f1_sm,label='train')\n",
    "ax3.plot(range(epochs),test_f1_sm,label='test')\n",
    "ax3.legend()\n",
    "ax3.set_title('F1')\n",
    "# window 30, overlap 15, 13 -> action "
   ]
  },
  {
   "cell_type": "code",
   "execution_count": 57,
   "metadata": {},
   "outputs": [],
   "source": [
    "model = RNN(input_size,hidden_size,num_layers,num_classes) "
   ]
  },
  {
   "cell_type": "code",
   "execution_count": 58,
   "metadata": {},
   "outputs": [
    {
     "data": {
      "text/plain": [
       "RNN(\n",
       "  (lstm): LSTM(126, 64, num_layers=2, batch_first=True, dropout=0.5)\n",
       "  (rnn): RNN(126, 64, num_layers=2, batch_first=True)\n",
       "  (fc): Linear(in_features=64, out_features=128, bias=True)\n",
       "  (fc2): Linear(in_features=64, out_features=4, bias=True)\n",
       ")"
      ]
     },
     "execution_count": 58,
     "metadata": {},
     "output_type": "execute_result"
    }
   ],
   "source": [
    "model"
   ]
  },
  {
   "cell_type": "code",
   "execution_count": 60,
   "metadata": {},
   "outputs": [
    {
     "data": {
      "text/plain": [
       "<All keys matched successfully>"
      ]
     },
     "execution_count": 60,
     "metadata": {},
     "output_type": "execute_result"
    }
   ],
   "source": [
    "model.(torch.load('./L2H64_W30Overlap15/model'))"
   ]
  },
  {
   "cell_type": "code",
   "execution_count": 61,
   "metadata": {},
   "outputs": [
    {
     "data": {
      "text/plain": [
       "RNN(\n",
       "  (lstm): LSTM(126, 64, num_layers=2, batch_first=True, dropout=0.5)\n",
       "  (rnn): RNN(126, 64, num_layers=2, batch_first=True)\n",
       "  (fc): Linear(in_features=64, out_features=128, bias=True)\n",
       "  (fc2): Linear(in_features=64, out_features=4, bias=True)\n",
       ")"
      ]
     },
     "execution_count": 61,
     "metadata": {},
     "output_type": "execute_result"
    }
   ],
   "source": [
    "model"
   ]
  },
  {
   "cell_type": "code",
   "execution_count": null,
   "metadata": {},
   "outputs": [],
   "source": [
    "import matplotlib.pyplot as plt\n",
    "epochs = 1000\n",
    "\n",
    "fig, (ax1, ax2,ax3) = plt.subplots(1,3,figsize=(15,6))\n",
    "ax1.plot(range(epochs),train_loss_sm,label='train')\n",
    "ax1.plot(range(epochs),test_loss_sm,label='test')\n",
    "ax1.legend()\n",
    "ax1.set_title('LOSS')\n",
    "\n",
    "\n",
    "ax2.plot(range(epochs),train_acc_sm,label='train')\n",
    "ax2.plot(range(epochs),test_acc_sm,label='test')\n",
    "ax2.legend()\n",
    "ax2.set_title('ACCURACY')\n",
    "\n",
    "ax3.plot(range(epochs),train_f1_sm,label='train')\n",
    "ax3.plot(range(epochs),test_f1_sm,label='test')\n",
    "ax3.legend()\n",
    "ax3.set_title('F1')\n",
    "# window 30, overlap 15, 13 -> action "
   ]
  },
  {
   "cell_type": "code",
   "execution_count": 232,
   "metadata": {},
   "outputs": [
    {
     "data": {
      "text/plain": [
       "Text(0.5, 1.0, 'F1')"
      ]
     },
     "execution_count": 232,
     "metadata": {},
     "output_type": "execute_result"
    },
    {
     "data": {
      "image/png": "[encoded data removed]",
      "text/plain": [
       "<Figure size 1080x432 with 3 Axes>"
      ]
     },
     "metadata": {
      "needs_background": "light"
     },
     "output_type": "display_data"
    }
   ],
   "source": [
    "import matplotlib.pyplot as plt\n",
    "epochs = 1000\n",
    "\n",
    "fig, (ax1, ax2,ax3) = plt.subplots(1,3,figsize=(15,6))\n",
    "ax1.plot(range(epochs),train_loss_sm,label='train')\n",
    "ax1.plot(range(epochs),test_loss_sm,label='test')\n",
    "ax1.legend()\n",
    "ax1.set_title('LOSS')\n",
    "\n",
    "\n",
    "ax2.plot(range(epochs),train_acc_sm,label='train')\n",
    "ax2.plot(range(epochs),test_acc_sm,label='test')\n",
    "ax2.legend()\n",
    "ax2.set_title('ACCURACY')\n",
    "\n",
    "ax3.plot(range(epochs),train_f1_sm,label='train')\n",
    "ax3.plot(range(epochs),test_f1_sm,label='test')\n",
    "ax3.legend()\n",
    "ax3.set_title('F1')\n",
    "# window 30, overlap 15, 13 -> action "
   ]
  },
  {
   "cell_type": "code",
   "execution_count": 95,
   "metadata": {},
   "outputs": [
    {
     "data": {
      "text/plain": [
       "Text(0.5, 1.0, 'F1')"
      ]
     },
     "execution_count": 95,
     "metadata": {},
     "output_type": "execute_result"
    },
    {
     "data": {
      "image/png": "[encoded data removed]",
      "text/plain": [
       "<Figure size 1080x432 with 3 Axes>"
      ]
     },
     "metadata": {
      "needs_background": "light"
     },
     "output_type": "display_data"
    }
   ],
   "source": [
    "import matplotlib.pyplot as plt\n",
    "epochs = 1000\n",
    "\n",
    "fig, (ax1, ax2,ax3) = plt.subplots(1,3,figsize=(15,6))\n",
    "ax1.plot(range(epochs),train_loss_sm,label='train')\n",
    "ax1.plot(range(epochs),test_loss_sm,label='test')\n",
    "ax1.legend()\n",
    "ax1.set_title('LOSS')\n",
    "\n",
    "\n",
    "ax2.plot(range(epochs),train_acc_sm,label='train')\n",
    "ax2.plot(range(epochs),test_acc_sm,label='test')\n",
    "ax2.legend()\n",
    "ax2.set_title('ACCURACY')\n",
    "\n",
    "ax3.plot(range(epochs),train_f1_sm,label='train')\n",
    "ax3.plot(range(epochs),test_f1_sm,label='test')\n",
    "ax3.legend()\n",
    "ax3.set_title('F1')\n",
    "# window 30, overlap 15, 13 -> action "
   ]
  },
  {
   "cell_type": "code",
   "execution_count": 197,
   "metadata": {},
   "outputs": [
    {
     "data": {
      "text/plain": [
       "Text(0.5, 1.0, 'F1')"
      ]
     },
     "execution_count": 197,
     "metadata": {},
     "output_type": "execute_result"
    },
    {
     "data": {
      "image/png": "[encoded data removed]",
      "text/plain": [
       "<Figure size 1080x432 with 3 Axes>"
      ]
     },
     "metadata": {
      "needs_background": "light"
     },
     "output_type": "display_data"
    }
   ],
   "source": [
    "import matplotlib.pyplot as plt\n",
    "epochs = 1000\n",
    "\n",
    "fig, (ax1, ax2,ax3) = plt.subplots(1,3,figsize=(15,6))\n",
    "ax1.plot(range(epochs),train_loss_sm,label='train')\n",
    "ax1.plot(range(epochs),test_loss_sm,label='test')\n",
    "ax1.legend()\n",
    "ax1.set_title('LOSS')\n",
    "\n",
    "\n",
    "ax2.plot(range(epochs),train_acc_sm,label='train')\n",
    "ax2.plot(range(epochs),test_acc_sm,label='test')\n",
    "ax2.legend()\n",
    "ax2.set_title('ACCURACY')\n",
    "\n",
    "ax3.plot(range(epochs),train_f1_sm,label='train')\n",
    "ax3.plot(range(epochs),test_f1_sm,label='test')\n",
    "ax3.legend()\n",
    "ax3.set_title('F1')\n",
    "#STANDARTIZED, weight_decay 7e-2, 16\n",
    "# window 60, overlap 30, 30 -> action "
   ]
  },
  {
   "cell_type": "code",
   "execution_count": 649,
   "metadata": {},
   "outputs": [
    {
     "name": "stdout",
     "output_type": "stream",
     "text": [
      "Parameter containing:\n",
      "tensor([[[ 2.6974e-02,  7.5904e-03,  6.8030e-03,  2.1992e-02,  2.1326e-02,\n",
      "          -1.0677e-02,  3.4281e-03,  1.4928e-02],\n",
      "         [ 1.5160e-02,  1.4075e-02,  8.5506e-03,  2.2673e-02,  2.1326e-02,\n",
      "          -1.4848e-02,  2.3215e-03,  1.5103e-02],\n",
      "         [ 2.2373e-02, -2.4106e-03, -1.6134e-03,  1.2250e-02,  1.1697e-02,\n",
      "          -9.8259e-04,  1.5308e-02,  4.9923e-03],\n",
      "         [ 2.0835e-02,  6.5704e-03,  5.2382e-03,  2.2711e-02,  1.7933e-02,\n",
      "          -1.1810e-02,  6.7041e-03,  1.0574e-02]],\n",
      "\n",
      "        [[ 4.1223e-04,  8.3483e-04, -8.5932e-04,  1.9870e-03,  2.4907e-03,\n",
      "           9.6854e-07, -9.4269e-05,  1.0730e-03],\n",
      "         [-3.1950e-03,  5.7733e-03, -5.9949e-03,  7.6081e-03,  7.9693e-03,\n",
      "          -4.0424e-03,  4.0913e-03, -1.4617e-04],\n",
      "         [ 3.8240e-04, -1.7261e-03,  1.7774e-03, -2.0479e-03, -2.1116e-03,\n",
      "           1.0303e-03, -1.3975e-03, -2.8787e-03],\n",
      "         [ 5.1274e-03, -5.3943e-03,  5.3291e-03, -4.8094e-03, -4.4134e-03,\n",
      "           5.4965e-03, -5.3079e-03,  1.4126e-03]]], device='cuda:0',\n",
      "       requires_grad=True) Parameter containing:\n",
      "tensor([[[ 0.0292,  0.0073,  0.0044,  0.0160,  0.0509, -0.0169, -0.0002,\n",
      "           0.0116],\n",
      "         [ 0.0169,  0.0193,  0.0065,  0.0221,  0.0468, -0.0311, -0.0015,\n",
      "           0.0146],\n",
      "         [ 0.0427, -0.0009, -0.0069,  0.0034,  0.0405, -0.0160,  0.0113,\n",
      "           0.0024],\n",
      "         [ 0.0344,  0.0070, -0.0004,  0.0186,  0.0465, -0.0242,  0.0036,\n",
      "          -0.0010]],\n",
      "\n",
      "        [[ 0.0009,  0.0007, -0.0007,  0.0028,  0.0026,  0.0005, -0.0008,\n",
      "           0.0021],\n",
      "         [-0.0024,  0.0065, -0.0068,  0.0092,  0.0088, -0.0034,  0.0030,\n",
      "           0.0008],\n",
      "         [ 0.0012, -0.0023,  0.0023, -0.0012, -0.0010,  0.0015, -0.0022,\n",
      "          -0.0019],\n",
      "         [ 0.0048, -0.0051,  0.0048, -0.0037, -0.0034,  0.0051, -0.0048,\n",
      "           0.0010]]], device='cuda:0', requires_grad=True)\n"
     ]
    }
   ],
   "source": [
    "net.print_h0()"
   ]
  },
  {
   "cell_type": "code",
   "execution_count": 887,
   "metadata": {},
   "outputs": [
    {
     "data": {
      "text/plain": [
       "0    332\n",
       "3     88\n",
       "2     59\n",
       "1     52\n",
       "dtype: int64"
      ]
     },
     "execution_count": 887,
     "metadata": {},
     "output_type": "execute_result"
    }
   ],
   "source": [
    "pd.DataFrame(ds_train[:][1].argmax(dim=1).numpy()).value_counts()"
   ]
  },
  {
   "cell_type": "code",
   "execution_count": 944,
   "metadata": {},
   "outputs": [
    {
     "data": {
      "text/plain": [
       "0    969\n",
       "2    182\n",
       "3    139\n",
       "1    112\n",
       "dtype: int64"
      ]
     },
     "execution_count": 944,
     "metadata": {},
     "output_type": "execute_result"
    }
   ],
   "source": [
    "pd.DataFrame(ds_train[:][1].argmax(dim=1).numpy()).value_counts()"
   ]
  },
  {
   "cell_type": "code",
   "execution_count": 743,
   "metadata": {},
   "outputs": [
    {
     "data": {
      "text/plain": [
       "array([0, 0, 0, 2, 0, 0, 0, 2, 0, 0, 2, 0, 0, 2, 0, 0, 2, 0, 0, 2, 0, 2,\n",
       "       0, 0, 2, 0, 2, 0, 0, 0, 2, 0, 0, 3, 0, 0, 3, 3, 0, 3, 0, 3, 0, 0,\n",
       "       0, 0, 1, 0, 0, 1, 0, 1, 0, 0, 1, 0, 0, 1, 0, 1, 0, 0, 1, 0, 0, 0,\n",
       "       1, 0, 0, 1, 0, 0, 1, 0, 1, 0, 0, 1, 1, 0, 0, 1, 1, 0, 0, 1, 1, 0,\n",
       "       0, 1, 3, 0, 0, 0, 3, 0, 0, 3, 0, 3, 0, 3, 0, 3, 0, 3, 0, 0, 3, 3,\n",
       "       0, 0, 0, 3, 0, 0, 0, 0, 0, 1, 0, 0, 0, 1, 0, 0, 1, 0, 0, 1, 0, 0,\n",
       "       0, 1, 0, 0, 1, 0, 1, 0, 0, 1, 0, 1, 0, 0, 0, 1, 0, 0, 0, 1, 0, 0,\n",
       "       1, 0, 0, 1, 0, 0, 1, 0, 0, 1, 0, 0, 1, 0, 0, 2, 0, 0, 0, 0, 2, 0,\n",
       "       0, 0, 0, 2, 2, 0, 0, 2, 0, 2, 0, 0, 2, 2, 0, 0, 0, 2, 0, 0, 0, 2,\n",
       "       0, 0, 0, 0, 0, 0, 0, 2, 0, 0, 0, 0, 0, 2, 0, 2, 0, 0, 2, 0, 2, 0,\n",
       "       0, 0, 2, 2, 0, 0, 2, 0, 2, 0, 0, 0, 2, 2, 0, 0, 2])"
      ]
     },
     "execution_count": 743,
     "metadata": {},
     "output_type": "execute_result"
    }
   ],
   "source": [
    "ds_train[:][1].argmax(dim=1).numpy()"
   ]
  },
  {
   "cell_type": "code",
   "execution_count": 902,
   "metadata": {},
   "outputs": [
    {
     "data": {
      "text/plain": [
       "0    969\n",
       "2    182\n",
       "3    139\n",
       "1    112\n",
       "dtype: int64"
      ]
     },
     "execution_count": 902,
     "metadata": {},
     "output_type": "execute_result"
    }
   ],
   "source": [
    "pd.DataFrame(ds_train[:][1].argmax(dim=1).numpy()).value_counts()"
   ]
  },
  {
   "cell_type": "code",
   "execution_count": 757,
   "metadata": {},
   "outputs": [
    {
     "data": {
      "text/plain": [
       "0    118\n",
       "2     52\n",
       "1     46\n",
       "3     21\n",
       "dtype: int64"
      ]
     },
     "execution_count": 757,
     "metadata": {},
     "output_type": "execute_result"
    }
   ],
   "source": [
    "pd.DataFrame(ds_train[:][1].argmax(dim=1).numpy()).value_counts()"
   ]
  },
  {
   "cell_type": "code",
   "execution_count": null,
   "metadata": {},
   "outputs": [],
   "source": []
  }
 ],
 "metadata": {
  "kernelspec": {
   "display_name": "Python 3.10.5 ('work_hand_gesture')",
   "language": "python",
   "name": "python3"
  },
  "language_info": {
   "codemirror_mode": {
    "name": "ipython",
    "version": 3
   },
   "file_extension": ".py",
   "mimetype": "text/x-python",
   "name": "python",
   "nbconvert_exporter": "python",
   "pygments_lexer": "ipython3",
   "version": "3.10.5"
  },
  "vscode": {
   "interpreter": {
    "hash": "27cb15847b0d5be65d380d57e87bbf07dd68cbba3fbb3a00a254e788e1ffb8b0"
   }
  }
 },
 "nbformat": 4,
 "nbformat_minor": 4
}

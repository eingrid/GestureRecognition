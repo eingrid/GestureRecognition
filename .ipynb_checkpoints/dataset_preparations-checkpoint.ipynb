{
 "cells": [
  {
   "cell_type": "code",
   "execution_count": 1160,
   "metadata": {},
   "outputs": [],
   "source": [
    "import pandas as pd\n",
    "import torch\n",
    "import torch.nn as nn\n",
    "import torch.nn.functional as F\n",
    "import torch.optim as optim\n",
    "import torchmetrics\n",
    "\n",
    "\n",
    "import os\n",
    "import numpy as np\n",
    "# ds = pd.read_csv('Dataset.csv')\n",
    "# ds"
   ]
  },
  {
   "cell_type": "markdown",
   "metadata": {},
   "source": [
    "## Reading dataset"
   ]
  },
  {
   "cell_type": "code",
   "execution_count": 1161,
   "metadata": {},
   "outputs": [],
   "source": [
    "test_gesture = './TEST_GESTURE'\n",
    "train_gesture = './TRAIN_GESTURE'"
   ]
  },
  {
   "cell_type": "code",
   "execution_count": 1162,
   "metadata": {},
   "outputs": [],
   "source": [
    "def add_samples(ds,X_list,y_list):\n",
    "    window_size = 60\n",
    "    overlap = window_size//2\n",
    "\n",
    "    X = ds.values\n",
    "    tmp_labels = ds.iloc[:,127].values\n",
    "    for i in range(ds.shape[0]//overlap-1):\n",
    "        start_idx = i*overlap\n",
    "        end_idx = start_idx + window_size\n",
    "        X_list.append(X[start_idx:end_idx,:126])\n",
    "        # print(start_idx,end_idx)\n",
    "        if sum(np.where(tmp_labels[start_idx:end_idx] > 0, 0, 1)) >= 30: \n",
    "            y_list.append(np.max(X[start_idx:end_idx,127]).astype(np.int32))\n",
    "        else:\n",
    "            y_list.append(0)"
   ]
  },
  {
   "cell_type": "code",
   "execution_count": 1163,
   "metadata": {},
   "outputs": [],
   "source": [
    "def add_samples_max_overlap(ds,X_list,y_list):\n",
    "    window_size = 30\n",
    "    overlap = window_size//2\n",
    "    \n",
    "    X = ds.values\n",
    "    tmp_labels = ds.iloc[:,127].values\n",
    "    # print(tmp_labels)\n",
    "    labels_in_window = []\n",
    "    for i in range(ds.shape[0]//overlap-1):\n",
    "        start_idx = i*overlap\n",
    "        end_idx = start_idx + window_size\n",
    "        \n",
    "        labels_in_window.append(sum(tmp_labels[start_idx:end_idx] > 0.5))\n",
    "        X_list.append(X[start_idx:end_idx,:126])\n",
    "        # print(start_idx,end_idx)\n",
    "        # if sum(np.where(tmp_labels[start_idx:end_idx] > 0, 0, 1)) >= 30: \n",
    "            # y_list.append(np.max(X[start_idx:end_idx,127]).astype(np.int32))\n",
    "        # else:\n",
    "            # y_list.append(0)\n",
    "            \n",
    "    largest_overlap_idx = 0\n",
    "    largest_overlap = labels_in_window[0]\n",
    "    start_idx = 0\n",
    "    # print(labels_in_window)\n",
    "    label = np.max(X[:,127]).astype(np.int32)\n",
    "    # for i,current_overlap in enumerate(labels_in_window):\n",
    "    #     if largest_overlap < current_overlap:\n",
    "    #         largest_overlap = current_overlap\n",
    "    #         largest_overlap_idx = i\n",
    "    #     elif current_overlap <= 16:\n",
    "    #         labels_in_window[start_idx:i] = [0 for x in range(start_idx,i)]\n",
    "    #         labels_in_window[largest_overlap_idx] = label\n",
    "    #         start_idx = i\n",
    "    # print(find_local_maxima(labels_in_window))\n",
    "    # print(\"BREAK\\n\\n\")\n",
    "    y = find_local_maxima(labels_in_window,min_value=9,local_max_value=label)\n",
    "    for l in y:\n",
    "        y_list.append(l)\n",
    "        \n",
    "    "
   ]
  },
  {
   "cell_type": "code",
   "execution_count": 1164,
   "metadata": {},
   "outputs": [],
   "source": [
    "def find_local_maxima(array:list, min_value = 9, local_max_value=0):\n",
    "    \"\"\"\n",
    "    returns: list with same size as input array, with 1 where the local maxima (higher than min_value) is and 0 elsewhere.\n",
    "    \"\"\"\n",
    "    loc_max = [0]\n",
    "    for i in range(1,len(array)-1):\n",
    "        if array[i] >= array[i-1] and array[i] >= array[i+1] and array[i] > min_value: \n",
    "            loc_max.append(local_max_value)\n",
    "        else:\n",
    "            loc_max.append(0)\n",
    "    loc_max.append(0)\n",
    "    return loc_max"
   ]
  },
  {
   "cell_type": "code",
   "execution_count": 1165,
   "metadata": {},
   "outputs": [],
   "source": [
    "# add_samples_max_overlap(ds,X_train_list,y_train_list)"
   ]
  },
  {
   "cell_type": "code",
   "execution_count": 1166,
   "metadata": {},
   "outputs": [],
   "source": [
    "X_train_list,y_train_list = [], []\n",
    "X_test_list,y_test_list = [], []\n",
    "\n",
    "full_ds = None\n",
    "train_ds = None\n",
    "test_ds = None\n",
    "i = 0\n",
    "def fill_lists(path_to_data,X_list,y_list,aug=False,train=False):\n",
    "    global full_ds, i\n",
    "    for file in os.listdir(path_to_data):\n",
    "        add_samples_max_overlap(pd.read_csv(path_to_data+'/'+file),X_list,y_list)\n",
    "        if full_ds is None:\n",
    "            full_ds = pd.read_csv(path_to_data+'/'+file)\n",
    "            full_ds['126'] = i\n",
    "                \n",
    "                \n",
    "        else:\n",
    "            new_ds = pd.read_csv(path_to_data+'/'+file)\n",
    "            new_ds['126'] = i\n",
    "            full_ds = pd.concat([full_ds,new_ds],ignore_index=True)\n",
    "            if aug:\n",
    "                new_ds\n",
    "        i += 1\n",
    "\n",
    "fill_lists(train_gesture,X_train_list,y_train_list)\n",
    "fill_lists(test_gesture,X_test_list,y_test_list)\n"
   ]
  },
  {
   "cell_type": "code",
   "execution_count": 1167,
   "metadata": {},
   "outputs": [
    {
     "name": "stdout",
     "output_type": "stream",
     "text": [
      "[0, 3, 0, 0, 0, 0, 3, 0, 0, 3, 0, 0, 3, 0, 0, 0, 3, 0, 0, 3, 0, 0, 0, 3, 0, 0, 0, 3, 0, 0, 0, 3, 0, 0, 3, 0, 0, 3, 0, 0, 0, 1, 0, 0, 1, 0, 0, 1, 0, 1, 1, 0, 0, 0, 0, 1, 0, 0, 0, 0, 1, 0, 0, 0, 0, 0, 0, 1, 0, 0, 0, 1, 0, 0, 0, 1, 0, 0, 0, 1, 0, 0, 1, 0, 1, 0, 0, 0, 0, 0, 3, 0, 0, 3, 0, 0, 3, 0, 0, 3, 0, 0, 3, 0, 0, 0, 0, 1, 0, 0, 1, 0, 0, 1, 0, 1, 1, 0, 0, 0, 0, 1, 0, 0, 0, 0, 1, 0, 0, 0, 0, 0, 3, 0, 0, 0, 0, 3, 0, 0, 3, 0, 0, 3, 0, 0, 0, 3, 0, 0, 3, 0, 0, 0, 3, 0, 0, 0, 3, 0, 0, 3, 0, 0, 0, 3, 0, 0, 3, 0, 0, 0, 0, 3, 0, 0, 3, 0, 3, 0, 3, 0, 0, 3, 0, 0, 0, 0, 0, 3, 0, 0, 3, 0, 3, 0, 0, 3, 0, 0, 3, 0, 0, 3, 0, 0, 3, 0, 0, 0, 3, 0, 0, 3, 0, 0, 0, 0, 0, 0, 0, 0, 0, 3, 3, 0, 0, 3, 0, 0, 0, 3, 0, 0, 3, 0, 0, 3, 0, 0, 3, 0, 0, 0, 0, 0, 3, 0, 0, 3, 0, 3, 0, 3, 0, 0, 3, 0, 0, 0, 0, 0, 3, 0, 0, 3, 0, 3, 0, 0, 3, 0, 0, 3, 0, 0, 3, 0, 0, 3, 0, 0, 0, 3, 0, 0, 3, 0, 0, 0, 0, 0, 0, 0, 0, 0, 3, 3, 0, 0, 3, 0, 0, 0, 3, 0, 0, 3, 0, 0, 3, 0, 0, 3, 0, 0, 0, 0, 3, 0, 0, 0, 0, 3, 0, 0, 3, 0, 0, 3, 0, 0, 0, 3, 0, 0, 3, 0, 0, 0, 3, 0, 0, 0, 3, 0, 0, 3, 0, 0, 0, 3, 0, 0, 3, 0, 0, 0, 0, 0, 1, 0, 1, 0, 0, 0, 1, 0, 0, 1, 0, 0, 0, 1, 0, 0, 0, 0, 0, 0, 1, 0, 0, 1, 0, 0, 1, 0, 1, 0, 0, 0, 0, 1, 0, 0, 0, 0, 0, 0, 1, 0, 0, 0, 0, 0, 0, 0, 0, 0, 0, 0, 0, 0, 0, 0, 0, 0, 1, 0, 0, 0, 1, 0, 0, 0, 1, 0, 0, 0, 0, 0, 0, 1, 0, 0, 1, 0, 0, 0, 0, 1, 0, 1, 0, 0, 1, 0, 0, 0, 0, 0, 0, 0, 0, 1, 0, 0, 1, 0, 0, 1, 0, 1, 0, 1, 0, 0, 1, 0, 0, 1, 0, 0, 0, 0, 0, 1, 0, 0, 0, 0, 0, 0, 0, 0, 0, 0, 0, 0, 0, 0, 0, 1, 0, 1, 1, 0, 0, 1, 0, 0, 1, 1, 0, 0, 0, 1, 0, 0, 0, 1, 0, 0, 0, 0, 1, 0, 0, 1, 0, 0, 0, 1, 0, 0, 0, 1, 0, 0, 0, 1, 0, 0, 1, 0, 1, 0, 0, 0, 0, 0, 2, 2, 0, 0, 0, 0, 2, 0, 0, 2, 0, 0, 2, 0, 0, 2, 0, 0, 2, 0, 0, 0, 2, 2, 0, 2, 0, 0, 0, 0, 2, 0, 0, 0, 0, 0, 2, 0, 0, 0, 2, 0, 0, 0, 0, 2, 2, 0, 0, 2, 0, 0, 0, 3, 0, 0, 3, 0, 0, 3, 0, 3, 3, 0, 3, 0, 0, 0, 0, 0, 0, 1, 0, 0, 1, 0, 0, 0, 0, 1, 0, 1, 0, 0, 1, 0, 0, 0, 0, 0, 0, 0, 0, 1, 0, 0, 1, 0, 0, 1, 0, 1, 0, 1, 0, 0, 1, 0, 0, 1, 0, 0, 0, 0, 0, 1, 0, 0, 0, 0, 0, 0, 0, 0, 0, 0, 0, 0, 0, 0, 0, 1, 0, 1, 1, 0, 0, 1, 0, 0, 1, 1, 0, 0, 0, 1, 0, 0, 0, 1, 0, 0, 0, 0, 2, 0, 0, 2, 0, 0, 0, 2, 0, 0, 0, 2, 0, 0, 0, 2, 0, 0, 2, 0, 0, 0, 0, 0, 0, 0, 0, 2, 0, 0, 0, 0, 2, 0, 0, 0, 0, 2, 0, 0, 0, 0, 0, 0, 2, 0, 0, 2, 0, 0, 0, 2, 0, 0, 0, 2, 0, 0, 0, 2, 0, 0, 0, 2, 0, 0, 0, 2, 0, 0, 2, 0, 0, 0, 2, 0, 0, 2, 0, 0, 0, 2, 2, 0, 0, 0, 0, 0, 0, 0, 0, 0, 0, 0, 2, 0, 0, 0, 0, 0, 2, 0, 0, 0, 0, 0, 2, 0, 0, 0, 0, 0, 2, 0, 0, 0, 0, 0, 0, 2, 0, 0, 0, 0, 2, 0, 0, 0, 0, 0, 0, 0, 0, 0, 0, 0, 2, 2, 0, 0, 0, 0, 2, 0, 0, 2, 0, 0, 2, 0, 0, 2, 0, 0, 2, 0, 0, 0, 2, 2, 0, 2, 0, 0, 0, 0, 2, 0, 0, 0, 0, 0, 2, 0, 0, 0, 2, 0, 0, 0, 0, 2, 2, 0, 0, 2, 0, 0, 0, 2, 2, 0, 0, 0, 2, 0, 0, 2, 0, 0, 2, 0, 0, 2, 0, 0, 0, 2, 0, 0, 2, 0, 0, 0, 2, 0, 0, 0, 2, 0, 0, 0, 2, 0, 0, 2, 0, 0, 0, 0, 0, 0, 0, 0, 2, 2, 0, 0, 0, 2, 0, 0, 0, 0, 2, 0, 0, 0, 0, 0, 0, 2, 0, 0, 2, 0, 0, 0, 2, 0, 0, 0, 2, 0, 0, 0, 2, 0, 0, 0, 2, 2, 0, 0, 2, 0, 0, 2, 0, 0, 0, 2, 0, 0, 2, 0, 0, 0, 2, 2, 0, 0, 0, 0, 0, 0, 0, 0, 0, 0, 0, 2, 2, 0, 0, 0, 0, 2, 0, 0, 0, 0, 0, 2, 0, 0, 0, 0, 0, 0, 2, 0, 0, 0, 0, 0, 0, 2, 0, 0, 0, 0, 2, 0, 0, 0, 0, 0, 0, 0, 0, 0, 0, 1, 0, 0, 0, 1, 0, 1, 0, 0, 0, 0, 1, 0, 0, 0, 0, 1, 0, 0, 0, 0, 0, 3, 0, 0, 3, 0, 3, 0, 3, 0, 0, 3, 0, 0, 0, 0, 3, 3, 0, 0, 3, 0, 3, 0, 0, 3, 0, 0, 3, 0, 0, 3, 0, 0, 3, 0, 0, 3, 3, 0, 0, 3, 0, 0, 0, 0, 0, 0, 0, 0, 0, 0, 3, 0, 0, 3, 0, 0, 0, 3, 0, 0, 3, 0, 0, 3, 0, 0, 3, 0, 0, 0, 0, 0, 2, 2, 0, 0, 0, 2, 0, 0, 2, 0, 0, 2, 0, 0, 2, 0, 0, 0, 2, 2, 0, 0, 2, 0, 0, 0, 2, 0, 0, 2, 0, 0, 2, 0, 0, 0, 2, 0, 0, 2, 0, 0, 0, 2, 0, 0, 0, 2, 0, 0, 0, 2, 0, 0, 2, 0, 0, 0, 0, 0, 0, 0, 0, 2, 0, 0, 0, 0, 2, 0, 0, 0, 0, 2, 0, 0, 0, 0, 0, 0, 2, 0, 0, 2, 0, 0, 0, 2, 0, 0, 0, 2, 0, 0, 0, 2, 0, 0, 0, 2, 0, 0, 0, 2, 0, 0, 2, 0, 0, 0, 2, 0, 0, 2, 0, 0, 0, 2, 2, 0, 0, 0, 0, 0, 0, 0, 0, 0, 0, 0, 2, 0, 0, 0, 0, 0, 2, 0, 0, 0, 0, 0, 2, 0, 0, 0, 0, 0, 2, 0, 0, 0, 0, 0, 0, 2, 0, 0, 0, 0, 2, 0, 0, 0, 0, 0, 0, 0, 0, 0, 0, 0, 0, 3, 0, 0, 3, 0, 0, 3, 0, 0, 3, 0, 0, 3, 0, 0, 0, 0, 2, 2, 0, 0, 0, 0, 2, 0, 0, 2, 0, 0, 2, 0, 0, 2, 0, 0, 2, 0, 0, 0, 0, 2, 0, 2, 0, 0, 0, 0, 2, 0, 0, 0, 0, 0, 2, 0, 0, 0, 2, 0, 0, 0, 0, 2, 2, 0, 0, 2, 0, 0, 0, 1, 0, 0, 1, 0, 0, 0, 1, 0, 0, 0, 1, 0, 0, 0, 1, 0, 0, 1, 0, 1, 0, 0, 0, 0]\n"
     ]
    }
   ],
   "source": [
    "print(y_train_list)"
   ]
  },
  {
   "cell_type": "code",
   "execution_count": 1168,
   "metadata": {},
   "outputs": [],
   "source": [
    "# features_mean = pd.DataFrame(np.vstack(X_train_list)).mean().values\n",
    "# features_std = pd.DataFrame(np.vstack(X_train_list)).std().values\n",
    "# for i in range(len(X_train_list)):\n",
    "#     X_train_list[i] = (X_train_list[i] - features_mean)/features_std\n",
    "    \n",
    "# for i in range(len(X_test_list)):\n",
    "#     X_test_list[i] = (X_test_list[i] - features_mean)/features_std\n",
    "    "
   ]
  },
  {
   "cell_type": "code",
   "execution_count": 1169,
   "metadata": {},
   "outputs": [],
   "source": [
    "def take_not_zero(ds:pd.DataFrame):\n",
    "    r = []\n",
    "    for idx in ds['126'].unique():\n",
    "        # print(X.loc[:,'126'])\n",
    "        X = ds[ds['126']==idx]['127'].values\n",
    "        min_seq = X.shape[0] \n",
    "        max_seq = 0\n",
    "        current_seq = 0 \n",
    "        label =  X.max()\n",
    "        X = X /( X.max() if X.max() >= 1 else 1)\n",
    "        mean_seq = np.mean(X)\n",
    "        for value in X:\n",
    "            if value != 0:\n",
    "                current_seq += 1\n",
    "            elif value == 0:\n",
    "                if min_seq > current_seq and current_seq != 0:\n",
    "                    min_seq = current_seq\n",
    "                if max_seq < current_seq:\n",
    "                    max_seq = current_seq\n",
    "                current_seq = 0\n",
    "        r.append([idx,label,min_seq,max_seq])\n",
    "    return r\n",
    "d = take_not_zero(full_ds)"
   ]
  },
  {
   "cell_type": "code",
   "execution_count": 1170,
   "metadata": {},
   "outputs": [
    {
     "name": "stderr",
     "output_type": "stream",
     "text": [
      "/tmp/ipykernel_155227/391785488.py:3: FutureWarning: Indexing with multiple keys (implicitly converted to a tuple of keys) will be deprecated, use a list instead.\n",
      "  k.groupby('label')['min_seq','max_seq'].mean()\n"
     ]
    },
    {
     "data": {
      "text/html": [
       "<div>\n",
       "<style scoped>\n",
       "    .dataframe tbody tr th:only-of-type {\n",
       "        vertical-align: middle;\n",
       "    }\n",
       "\n",
       "    .dataframe tbody tr th {\n",
       "        vertical-align: top;\n",
       "    }\n",
       "\n",
       "    .dataframe thead th {\n",
       "        text-align: right;\n",
       "    }\n",
       "</style>\n",
       "<table border=\"1\" class=\"dataframe\">\n",
       "  <thead>\n",
       "    <tr style=\"text-align: right;\">\n",
       "      <th></th>\n",
       "      <th>min_seq</th>\n",
       "      <th>max_seq</th>\n",
       "    </tr>\n",
       "    <tr>\n",
       "      <th>label</th>\n",
       "      <th></th>\n",
       "      <th></th>\n",
       "    </tr>\n",
       "  </thead>\n",
       "  <tbody>\n",
       "    <tr>\n",
       "      <th>1.0</th>\n",
       "      <td>14.5</td>\n",
       "      <td>41.1</td>\n",
       "    </tr>\n",
       "    <tr>\n",
       "      <th>2.0</th>\n",
       "      <td>26.2</td>\n",
       "      <td>53.1</td>\n",
       "    </tr>\n",
       "    <tr>\n",
       "      <th>3.0</th>\n",
       "      <td>18.6</td>\n",
       "      <td>34.3</td>\n",
       "    </tr>\n",
       "  </tbody>\n",
       "</table>\n",
       "</div>"
      ],
      "text/plain": [
       "       min_seq  max_seq\n",
       "label                  \n",
       "1.0       14.5     41.1\n",
       "2.0       26.2     53.1\n",
       "3.0       18.6     34.3"
      ]
     },
     "execution_count": 1170,
     "metadata": {},
     "output_type": "execute_result"
    }
   ],
   "source": [
    "k = pd.DataFrame(d,columns=['video_id','label','min_seq','max_seq'])\n",
    "\n",
    "k.groupby('label')['min_seq','max_seq'].mean()"
   ]
  },
  {
   "cell_type": "code",
   "execution_count": 1171,
   "metadata": {},
   "outputs": [
    {
     "name": "stderr",
     "output_type": "stream",
     "text": [
      "/tmp/ipykernel_155227/755902479.py:1: FutureWarning: Indexing with multiple keys (implicitly converted to a tuple of keys) will be deprecated, use a list instead.\n",
      "  k.groupby('label')['min_seq','max_seq'].mean().mean(axis=1)\n"
     ]
    },
    {
     "data": {
      "text/plain": [
       "label\n",
       "1.0    27.80\n",
       "2.0    39.65\n",
       "3.0    26.45\n",
       "dtype: float64"
      ]
     },
     "execution_count": 1171,
     "metadata": {},
     "output_type": "execute_result"
    }
   ],
   "source": [
    "k.groupby('label')['min_seq','max_seq'].mean().mean(axis=1)"
   ]
  },
  {
   "cell_type": "code",
   "execution_count": 1172,
   "metadata": {},
   "outputs": [
    {
     "data": {
      "text/plain": [
       "1402"
      ]
     },
     "execution_count": 1172,
     "metadata": {},
     "output_type": "execute_result"
    }
   ],
   "source": [
    "len(y_train_list)"
   ]
  },
  {
   "cell_type": "code",
   "execution_count": 1173,
   "metadata": {},
   "outputs": [],
   "source": [
    "labels_train = F.one_hot(torch.tensor(y_train_list,dtype=torch.int64),num_classes=4)\n",
    "labels_test = F.one_hot(torch.tensor(y_test_list,dtype=torch.int64),num_classes=4)"
   ]
  },
  {
   "cell_type": "code",
   "execution_count": 1174,
   "metadata": {},
   "outputs": [],
   "source": [
    "X_train = torch.tensor(X_train_list)\n",
    "X_test = torch.tensor(X_test_list)"
   ]
  },
  {
   "cell_type": "code",
   "execution_count": 1175,
   "metadata": {},
   "outputs": [],
   "source": [
    "ds_train = torch.utils.data.TensorDataset(X_train,labels_train)\n",
    "dataloader_train = torch.utils.data.DataLoader(ds_train,batch_size=4,drop_last = True)\n",
    "\n",
    "ds_test = torch.utils.data.TensorDataset(X_test,labels_test)\n",
    "dataloader_test = torch.utils.data.DataLoader(ds_test,batch_size=4,drop_last = True)\n",
    "\n"
   ]
  },
  {
   "cell_type": "code",
   "execution_count": 1176,
   "metadata": {},
   "outputs": [
    {
     "data": {
      "text/plain": [
       "array([0.00095694, 0.01052632, 0.00671141, 0.00884956])"
      ]
     },
     "execution_count": 1176,
     "metadata": {},
     "output_type": "execute_result"
    }
   ],
   "source": [
    "w = 1./(pd.DataFrame(ds_train[:][1].argmax(dim=1).numpy()).value_counts().sort_index().values)\n",
    "w"
   ]
  },
  {
   "cell_type": "code",
   "execution_count": 1177,
   "metadata": {},
   "outputs": [
    {
     "data": {
      "text/plain": [
       "0    1045\n",
       "1      95\n",
       "2     149\n",
       "3     113\n",
       "dtype: int64"
      ]
     },
     "execution_count": 1177,
     "metadata": {},
     "output_type": "execute_result"
    }
   ],
   "source": [
    "pd.DataFrame(ds_train[:][1].argmax(dim=1).numpy()).value_counts().sort_index()"
   ]
  },
  {
   "cell_type": "code",
   "execution_count": 1178,
   "metadata": {},
   "outputs": [
    {
     "data": {
      "text/plain": [
       "[0.0009569377990430622,\n",
       " 0.008849557522123894,\n",
       " 0.0009569377990430622,\n",
       " 0.0009569377990430622,\n",
       " 0.0009569377990430622,\n",
       " 0.0009569377990430622,\n",
       " 0.008849557522123894,\n",
       " 0.0009569377990430622,\n",
       " 0.0009569377990430622,\n",
       " 0.008849557522123894]"
      ]
     },
     "execution_count": 1178,
     "metadata": {},
     "output_type": "execute_result"
    }
   ],
   "source": [
    "weights = []\n",
    "for x in labels_train.argmax(dim=1):\n",
    "    weights.append(w[x.numpy()])\n",
    "    \n",
    "weights[:10]"
   ]
  },
  {
   "cell_type": "code",
   "execution_count": 1183,
   "metadata": {},
   "outputs": [],
   "source": [
    "from torch.utils.data import WeightedRandomSampler\n",
    "sampler = WeightedRandomSampler(torch.from_numpy(np.array(weights)),400)\n",
    "train_dataloader = torch.utils.data.DataLoader(ds_train,sampler=sampler,batch_size=4,drop_last=True)\n"
   ]
  },
  {
   "cell_type": "code",
   "execution_count": 1184,
   "metadata": {},
   "outputs": [],
   "source": [
    "dataloader_train = train_dataloader"
   ]
  },
  {
   "cell_type": "code",
   "execution_count": 1185,
   "metadata": {},
   "outputs": [
    {
     "data": {
      "text/plain": [
       "1    109\n",
       "0    101\n",
       "3     96\n",
       "2     94\n",
       "dtype: int64"
      ]
     },
     "execution_count": 1185,
     "metadata": {},
     "output_type": "execute_result"
    }
   ],
   "source": [
    "lab = []\n",
    "for data,labels in dataloader_train:\n",
    "    lab.append(labels.argmax(dim=1).numpy())\n",
    "pd.DataFrame(np.hstack(lab)).value_counts()    "
   ]
  },
  {
   "cell_type": "markdown",
   "metadata": {},
   "source": [
    "## Model"
   ]
  },
  {
   "cell_type": "code",
   "execution_count": 1186,
   "metadata": {},
   "outputs": [],
   "source": [
    "input_size = 126\n",
    "num_layers = 2\n",
    "hidden_size = 16\n",
    "num_classes = 4\n",
    "learning_rate = 1e-4"
   ]
  },
  {
   "cell_type": "code",
   "execution_count": 1187,
   "metadata": {},
   "outputs": [],
   "source": [
    "class RNN(nn.Module):\n",
    "    def __init__(self,input_size,hidden_size,num_layers,num_classes):\n",
    "        super(RNN,self).__init__()\n",
    "        self.hidden_size = hidden_size\n",
    "        self.num_layers = num_layers\n",
    "        # self.batch_norm = nn.BatchNorm2d(1)\n",
    "        h0 = torch.zeros(self.num_layers,4,self.hidden_size).to(device)\n",
    "        c0 = torch.zeros(self.num_layers,4,self.hidden_size).to(device)\n",
    "        self.h0 = nn.Parameter(h0,requires_grad=True)\n",
    "        self.c0 = nn.Parameter(c0,requires_grad=True)\n",
    "        \n",
    "        \n",
    "        \n",
    "        self.lstm = nn.LSTM(input_size,hidden_size,num_layers,batch_first=True)#,dropout=0.7) \n",
    "        self.rnn = nn.RNN(input_size,hidden_size,num_layers,batch_first=True)\n",
    "        self.fc = nn.Linear(hidden_size, 128)\n",
    "        self.fc2 = nn.Linear(hidden_size, num_classes) \n",
    "    \n",
    "    def forward(self,x):\n",
    "\n",
    "        \n",
    "        # _, (hn, _) = self.lstm(x,(self.h0,self.c0))\n",
    "        # _,hn = self.rnn(x,self.h0)\n",
    "        _, (hn, _) = self.lstm(x,(self.h0,self.c0))\n",
    "            \n",
    "        hn = hn[-1]\n",
    "        out = F.dropout(hn,p=0.0,training=self.training)\n",
    "        out = self.fc2(out)\n",
    "        return F.log_softmax(out)\n",
    "    \n",
    "    def print_h0(self):\n",
    "        print(self.h0,self.c0)\n",
    "\n",
    "    "
   ]
  },
  {
   "cell_type": "code",
   "execution_count": 1188,
   "metadata": {},
   "outputs": [
    {
     "data": {
      "text/plain": [
       "<torch.utils.data.dataset.TensorDataset at 0x7f60dceaef20>"
      ]
     },
     "execution_count": 1188,
     "metadata": {},
     "output_type": "execute_result"
    }
   ],
   "source": [
    "device = torch.device(\"cuda:0\" if torch.cuda.is_available() else \"cpu\")\n",
    "dataloader_train.dataset"
   ]
  },
  {
   "cell_type": "code",
   "execution_count": 1189,
   "metadata": {},
   "outputs": [],
   "source": [
    "net = RNN(input_size,hidden_size,num_layers,num_classes) \n",
    "net.to(device)\n",
    "optimizer = optim.Adam(net.parameters(),lr=learning_rate,weight_decay=7e-2)"
   ]
  },
  {
   "cell_type": "code",
   "execution_count": 1190,
   "metadata": {},
   "outputs": [],
   "source": [
    "acc = torchmetrics.Accuracy().to(device)\n",
    "f1 = torchmetrics.F1Score(num_classes=4,average='macro').to(device)\n",
    "confmat = torchmetrics.ConfusionMatrix(num_classes=4).to(device)\n"
   ]
  },
  {
   "cell_type": "code",
   "execution_count": 1191,
   "metadata": {},
   "outputs": [],
   "source": [
    "def train(epoch):\n",
    "    global train_loss, train_acc, train_f1\n",
    "    net.train()\n",
    "    correct = 0\n",
    "    epoch_loss = 0\n",
    "    ConfusionMatrix = torch.zeros(size=(4,4)).to(device)\n",
    "    f1_score = 0\n",
    "    for batch_idx, (X_train, y_train) in enumerate(dataloader_train):\n",
    "        X_train, y_train = X_train.float().to(device), y_train.to(device)\n",
    "        optimizer.zero_grad()\n",
    "        output = net(X_train)\n",
    "        loss = F.nll_loss(output,y_train.argmax(dim=1))#,weight=weights)\n",
    "        \n",
    "        loss.backward()\n",
    "        optimizer.step()\n",
    "        label = y_train[0].data.argmax()\n",
    "        epoch_loss += loss.item()\n",
    "        pred = torch.exp(output)\n",
    "        ConfusionMatrix += confmat(pred.argmax(dim=1).to(device),y_train.argmax(dim=1).to(device))\n",
    "        correct += acc(pred.to(device),y_train.argmax(dim=1))#torch.sum(output.argmax(dim=1).eq(y_train.argmax(dim=1)))/output.shape[0]\n",
    "        f1_score += f1(pred.argmax(dim=1).to(device),y_train.argmax(dim=1))\n",
    "    train_loss.append(epoch_loss/len(dataloader_train))\n",
    "    train_acc.append(correct/len(dataloader_train))\n",
    "    train_f1.append(f1_score/len(dataloader_train))\n",
    "    if epoch % 50 == 0 :\n",
    "        print(f'TRAIN Epoch {epoch} Loss: {epoch_loss/len(dataloader_train)} Accuracy: {correct/len(dataloader_train)} F1 : {f1_score/len(dataloader_train)}')\n",
    "        print(f'TRAIN Epoch {epoch} CONF MAT {ConfusionMatrix}')\n"
   ]
  },
  {
   "cell_type": "code",
   "execution_count": 1192,
   "metadata": {},
   "outputs": [],
   "source": [
    "def test(epoch):\n",
    "    global test_loss, test_acc, test_f1\n",
    "    with torch.no_grad():\n",
    "        net.train(False)\n",
    "        epoch_loss = 0 \n",
    "        accuracy = 0\n",
    "        ConfusionMatrix = torch.zeros(size=(4,4)).to(device)\n",
    "        f1_score = 0\n",
    "        for batch_idx, (X_train, y_train) in enumerate(dataloader_test):\n",
    "            X_train, y_train = X_train.to(device), y_train.to(device)\n",
    "            output = net(X_train.float())\n",
    "            pred = output[-1].squeeze(0).argmax()\n",
    "            label = y_train[0].data.argmax()\n",
    "            loss = F.nll_loss(output,y_train.argmax(dim=1))#,weight=weights)\n",
    "            epoch_loss += loss.item()\n",
    "            pred = torch.exp(output)\n",
    "            ConfusionMatrix += confmat(pred.argmax(dim=1).to(device),y_train.argmax(dim=1).to(device))\n",
    "        \n",
    "            accuracy += acc(pred.to(device),y_train.argmax(dim=1).to(device))#torch.sum(output.argmax(dim=1).eq(y_train.argmax(dim=1)))/output.shape[0]\n",
    "            f1_score += f1(pred.argmax(dim=1).to(device),y_train.argmax(dim=1).to(device))\n",
    "        test_loss.append(epoch_loss/len(dataloader_test))\n",
    "        test_acc.append(accuracy/len(dataloader_test))\n",
    "        test_f1.append(f1_score/len(dataloader_test))\n",
    "        if epoch % 50 == 0 :\n",
    "            print(f'TEST Epoch {epoch} Loss: {epoch_loss/len(dataloader_test)}, Accuracy: {accuracy/len(dataloader_test)} F1 : {f1_score/len(dataloader_test)} \\n')\n",
    "            print(f'TEST Epoch {epoch} CONF MAT {ConfusionMatrix}\\n')"
   ]
  },
  {
   "cell_type": "code",
   "execution_count": 1193,
   "metadata": {},
   "outputs": [
    {
     "name": "stderr",
     "output_type": "stream",
     "text": [
      "/tmp/ipykernel_155227/2915569083.py:29: UserWarning: Implicit dimension choice for log_softmax has been deprecated. Change the call to include dim=X as an argument.\n",
      "  return F.log_softmax(out)\n"
     ]
    },
    {
     "name": "stdout",
     "output_type": "stream",
     "text": [
      "TRAIN Epoch 0 Loss: 1.3929462480545043 Accuracy: 0.1550000011920929 F1 : 0.08732141554355621\n",
      "TRAIN Epoch 0 CONF MAT tensor([[ 0.,  0., 11., 92.],\n",
      "        [ 0.,  0.,  6., 91.],\n",
      "        [ 0.,  0.,  3., 98.],\n",
      "        [ 0.,  0., 40., 59.]], device='cuda:0')\n",
      "TEST Epoch 0 Loss: 1.3552289621250049, Accuracy: 0.04054054245352745 F1 : 0.03213213384151459 \n",
      "\n",
      "TEST Epoch 0 CONF MAT tensor([[  0.,   0.,  12., 108.],\n",
      "        [  0.,   0.,   0.,   7.],\n",
      "        [  0.,   0.,   0.,  10.],\n",
      "        [  0.,   0.,   5.,   6.]], device='cuda:0')\n",
      "\n",
      "TRAIN Epoch 50 Loss: 1.3895036840438844 Accuracy: 0.25999999046325684 F1 : 0.13063490390777588\n",
      "TRAIN Epoch 50 CONF MAT tensor([[  0.,   0.,   0.,  94.],\n",
      "        [  0.,   0.,   0., 105.],\n",
      "        [  0.,   0.,   0.,  97.],\n",
      "        [  0.,   0.,   0., 104.]], device='cuda:0')\n",
      "TEST Epoch 50 Loss: 1.366695387943371, Accuracy: 0.07432432472705841 F1 : 0.059459470212459564 \n",
      "\n",
      "TEST Epoch 50 CONF MAT tensor([[  0.,   0.,   0., 120.],\n",
      "        [  0.,   0.,   0.,   7.],\n",
      "        [  0.,   0.,   0.,  10.],\n",
      "        [  0.,   0.,   0.,  11.]], device='cuda:0')\n",
      "\n",
      "TRAIN Epoch 100 Loss: 1.3886565816402436 Accuracy: 0.25 F1 : 0.12798413634300232\n",
      "TRAIN Epoch 100 CONF MAT tensor([[  0.,   0.,   0.,  97.],\n",
      "        [  0.,   0.,   0., 110.],\n",
      "        [  0.,   0.,   0.,  93.],\n",
      "        [  0.,   0.,   0., 100.]], device='cuda:0')\n",
      "TEST Epoch 100 Loss: 1.3741310126072652, Accuracy: 0.07432432472705841 F1 : 0.059459470212459564 \n",
      "\n",
      "TEST Epoch 100 CONF MAT tensor([[  0.,   0.,   0., 120.],\n",
      "        [  0.,   0.,   0.,   7.],\n",
      "        [  0.,   0.,   0.,  10.],\n",
      "        [  0.,   0.,   0.,  11.]], device='cuda:0')\n",
      "\n",
      "TRAIN Epoch 150 Loss: 1.3866989481449128 Accuracy: 0.25999999046325684 F1 : 0.13547618687152863\n",
      "TRAIN Epoch 150 CONF MAT tensor([[  0.,   0.,   0.,  92.],\n",
      "        [  0.,   0.,   0., 103.],\n",
      "        [  0.,   0.,   0., 101.],\n",
      "        [  0.,   0.,   0., 104.]], device='cuda:0')\n",
      "TEST Epoch 150 Loss: 1.3794745947863605, Accuracy: 0.07432432472705841 F1 : 0.059459470212459564 \n",
      "\n",
      "TEST Epoch 150 CONF MAT tensor([[  0.,   0.,   0., 120.],\n",
      "        [  0.,   0.,   0.,   7.],\n",
      "        [  0.,   0.,   0.,  10.],\n",
      "        [  0.,   0.,   0.,  11.]], device='cuda:0')\n",
      "\n",
      "TRAIN Epoch 200 Loss: 1.3861252582073211 Accuracy: 0.23749999701976776 F1 : 0.12795236706733704\n",
      "TRAIN Epoch 200 CONF MAT tensor([[ 0.,  0., 62., 34.],\n",
      "        [ 0.,  0., 76., 22.],\n",
      "        [ 0.,  0., 69., 42.],\n",
      "        [ 0.,  0., 69., 26.]], device='cuda:0')\n",
      "TEST Epoch 200 Loss: 1.3888669819445223, Accuracy: 0.06756757199764252 F1 : 0.05405406281352043 \n",
      "\n",
      "TEST Epoch 200 CONF MAT tensor([[  0.,   0., 120.,   0.],\n",
      "        [  0.,   0.,   7.,   0.],\n",
      "        [  0.,   0.,  10.,   0.],\n",
      "        [  0.,   0.,  11.,   0.]], device='cuda:0')\n",
      "\n",
      "TRAIN Epoch 250 Loss: 1.3868457460403443 Accuracy: 0.2149999886751175 F1 : 0.11036507040262222\n",
      "TRAIN Epoch 250 CONF MAT tensor([[  0.,   0.,  98.,   0.],\n",
      "        [  0.,   0., 121.,   0.],\n",
      "        [  0.,   0.,  86.,   0.],\n",
      "        [  0.,   0.,  95.,   0.]], device='cuda:0')\n",
      "TEST Epoch 250 Loss: 1.3993279386211086, Accuracy: 0.06756757199764252 F1 : 0.05405406281352043 \n",
      "\n",
      "TEST Epoch 250 CONF MAT tensor([[  0.,   0., 120.,   0.],\n",
      "        [  0.,   0.,   7.,   0.],\n",
      "        [  0.,   0.,  10.,   0.],\n",
      "        [  0.,   0.,  11.,   0.]], device='cuda:0')\n",
      "\n",
      "TRAIN Epoch 300 Loss: 1.3862690997123719 Accuracy: 0.2474999874830246 F1 : 0.13049207627773285\n",
      "TRAIN Epoch 300 CONF MAT tensor([[  0.,   0.,   0.,  91.],\n",
      "        [  0.,   0.,   0., 111.],\n",
      "        [  0.,   0.,   0.,  99.],\n",
      "        [  0.,   0.,   0.,  99.]], device='cuda:0')\n",
      "TEST Epoch 300 Loss: 1.390705724020262, Accuracy: 0.07432432472705841 F1 : 0.059459470212459564 \n",
      "\n",
      "TEST Epoch 300 CONF MAT tensor([[  0.,   0.,   0., 120.],\n",
      "        [  0.,   0.,   0.,   7.],\n",
      "        [  0.,   0.,   0.,  10.],\n",
      "        [  0.,   0.,   0.,  11.]], device='cuda:0')\n",
      "\n",
      "TRAIN Epoch 350 Loss: 1.3864021730422973 Accuracy: 0.2224999964237213 F1 : 0.12034919112920761\n",
      "TRAIN Epoch 350 CONF MAT tensor([[  9.,  98.,   0.,   0.],\n",
      "        [  9.,  80.,   0.,   0.],\n",
      "        [ 11., 102.,   0.,   0.],\n",
      "        [ 11.,  80.,   0.,   0.]], device='cuda:0')\n",
      "TEST Epoch 350 Loss: 1.3831338270290479, Accuracy: 0.8108108043670654 F1 : 0.5804377198219299 \n",
      "\n",
      "TEST Epoch 350 CONF MAT tensor([[120.,   0.,   0.,   0.],\n",
      "        [  7.,   0.,   0.,   0.],\n",
      "        [ 10.,   0.,   0.,   0.],\n",
      "        [ 11.,   0.,   0.,   0.]], device='cuda:0')\n",
      "\n",
      "TRAIN Epoch 400 Loss: 1.3863273823261262 Accuracy: 0.22999998927116394 F1 : 0.12757140398025513\n",
      "TRAIN Epoch 400 CONF MAT tensor([[  0., 113.,   0.,   0.],\n",
      "        [  2.,  92.,   0.,   0.],\n",
      "        [  2.,  92.,   0.,   0.],\n",
      "        [  0.,  99.,   0.,   0.]], device='cuda:0')\n",
      "TEST Epoch 400 Loss: 1.385061431575466, Accuracy: 0.04729729890823364 F1 : 0.036036040633916855 \n",
      "\n",
      "TEST Epoch 400 CONF MAT tensor([[  0., 120.,   0.,   0.],\n",
      "        [  0.,   7.,   0.,   0.],\n",
      "        [  0.,  10.,   0.,   0.],\n",
      "        [  0.,  11.,   0.,   0.]], device='cuda:0')\n",
      "\n",
      "TRAIN Epoch 450 Loss: 1.3862415540218354 Accuracy: 0.2524999976158142 F1 : 0.13509522378444672\n",
      "TRAIN Epoch 450 CONF MAT tensor([[  0.,   0.,   0., 111.],\n",
      "        [  0.,   0.,   0.,  93.],\n",
      "        [  0.,   0.,   0.,  95.],\n",
      "        [  0.,   0.,   0., 101.]], device='cuda:0')\n",
      "TEST Epoch 450 Loss: 1.3860505239383594, Accuracy: 0.07432432472705841 F1 : 0.059459470212459564 \n",
      "\n",
      "TEST Epoch 450 CONF MAT tensor([[  0.,   0.,   0., 120.],\n",
      "        [  0.,   0.,   0.,   7.],\n",
      "        [  0.,   0.,   0.,  10.],\n",
      "        [  0.,   0.,   0.,  11.]], device='cuda:0')\n",
      "\n",
      "TRAIN Epoch 500 Loss: 1.3865036511421203 Accuracy: 0.2524999976158142 F1 : 0.13393649458885193\n",
      "TRAIN Epoch 500 CONF MAT tensor([[  0.,   0.,   0., 121.],\n",
      "        [  0.,   0.,   0.,  77.],\n",
      "        [  0.,   0.,   0., 101.],\n",
      "        [  0.,   0.,   0., 101.]], device='cuda:0')\n",
      "TEST Epoch 500 Loss: 1.3893961584245837, Accuracy: 0.07432432472705841 F1 : 0.059459470212459564 \n",
      "\n",
      "TEST Epoch 500 CONF MAT tensor([[  0.,   0.,   0., 120.],\n",
      "        [  0.,   0.,   0.,   7.],\n",
      "        [  0.,   0.,   0.,  10.],\n",
      "        [  0.,   0.,   0.,  11.]], device='cuda:0')\n",
      "\n",
      "TRAIN Epoch 550 Loss: 1.3865491688251494 Accuracy: 0.21249999105930328 F1 : 0.10936509072780609\n",
      "TRAIN Epoch 550 CONF MAT tensor([[  0.,   0.,   0., 111.],\n",
      "        [  0.,   0.,   0., 105.],\n",
      "        [  0.,   0.,   0.,  99.],\n",
      "        [  0.,   0.,   0.,  85.]], device='cuda:0')\n",
      "TEST Epoch 550 Loss: 1.3848459720611572, Accuracy: 0.07432432472705841 F1 : 0.059459470212459564 \n",
      "\n",
      "TEST Epoch 550 CONF MAT tensor([[  0.,   0.,   0., 120.],\n",
      "        [  0.,   0.,   0.,   7.],\n",
      "        [  0.,   0.,   0.,  10.],\n",
      "        [  0.,   0.,   0.,  11.]], device='cuda:0')\n",
      "\n",
      "TRAIN Epoch 600 Loss: 1.3860945522785186 Accuracy: 0.27250000834465027 F1 : 0.1499364972114563\n",
      "TRAIN Epoch 600 CONF MAT tensor([[  0.,   0.,  90.,   0.],\n",
      "        [  0.,   0., 105.,   0.],\n",
      "        [  0.,   0., 109.,   0.],\n",
      "        [  0.,   0.,  96.,   0.]], device='cuda:0')\n",
      "TEST Epoch 600 Loss: 1.388015950048292, Accuracy: 0.06756757199764252 F1 : 0.05405406281352043 \n",
      "\n",
      "TEST Epoch 600 CONF MAT tensor([[  0.,   0., 120.,   0.],\n",
      "        [  0.,   0.,   7.,   0.],\n",
      "        [  0.,   0.,  10.,   0.],\n",
      "        [  0.,   0.,  11.,   0.]], device='cuda:0')\n",
      "\n",
      "TRAIN Epoch 650 Loss: 1.3866296577453614 Accuracy: 0.22749999165534973 F1 : 0.11985713988542557\n",
      "TRAIN Epoch 650 CONF MAT tensor([[  0.,   0., 102.,   0.],\n",
      "        [  0.,   0., 113.,   0.],\n",
      "        [  0.,   0.,  91.,   0.],\n",
      "        [  0.,   0.,  94.,   0.]], device='cuda:0')\n",
      "TEST Epoch 650 Loss: 1.3928583248241528, Accuracy: 0.06756757199764252 F1 : 0.05405406281352043 \n",
      "\n",
      "TEST Epoch 650 CONF MAT tensor([[  0.,   0., 120.,   0.],\n",
      "        [  0.,   0.,   7.,   0.],\n",
      "        [  0.,   0.,  10.,   0.],\n",
      "        [  0.,   0.,  11.,   0.]], device='cuda:0')\n",
      "\n",
      "TRAIN Epoch 700 Loss: 1.3865326833724976 Accuracy: 0.26249998807907104 F1 : 0.13915874063968658\n",
      "TRAIN Epoch 700 CONF MAT tensor([[  0.,   0.,  94.,   0.],\n",
      "        [  0.,   0.,  91.,   0.],\n",
      "        [  0.,   0., 105.,   0.],\n",
      "        [  0.,   0., 110.,   0.]], device='cuda:0')\n",
      "TEST Epoch 700 Loss: 1.3877314683553335, Accuracy: 0.06756757199764252 F1 : 0.05405406281352043 \n",
      "\n",
      "TEST Epoch 700 CONF MAT tensor([[  0.,   0., 120.,   0.],\n",
      "        [  0.,   0.,   7.,   0.],\n",
      "        [  0.,   0.,  10.,   0.],\n",
      "        [  0.,   0.,  11.,   0.]], device='cuda:0')\n",
      "\n",
      "TRAIN Epoch 750 Loss: 1.3867835128307342 Accuracy: 0.2224999964237213 F1 : 0.12253966182470322\n",
      "TRAIN Epoch 750 CONF MAT tensor([[  0.,   0.,  97.,   0.],\n",
      "        [  0.,   0., 107.,   0.],\n",
      "        [  0.,   0.,  89.,   0.],\n",
      "        [  0.,   0., 107.,   0.]], device='cuda:0')\n",
      "TEST Epoch 750 Loss: 1.3871581941037565, Accuracy: 0.06756757199764252 F1 : 0.05405406281352043 \n",
      "\n",
      "TEST Epoch 750 CONF MAT tensor([[  0.,   0., 120.,   0.],\n",
      "        [  0.,   0.,   7.,   0.],\n",
      "        [  0.,   0.,  10.,   0.],\n",
      "        [  0.,   0.,  11.,   0.]], device='cuda:0')\n",
      "\n",
      "TRAIN Epoch 800 Loss: 1.3864580655097962 Accuracy: 0.2549999952316284 F1 : 0.14260315895080566\n",
      "TRAIN Epoch 800 CONF MAT tensor([[  0.,   0.,  94.,   0.],\n",
      "        [  0.,   0., 104.,   0.],\n",
      "        [  0.,   0., 102.,   0.],\n",
      "        [  0.,   0., 100.,   0.]], device='cuda:0')\n",
      "TEST Epoch 800 Loss: 1.3835002055039276, Accuracy: 0.06756757199764252 F1 : 0.05405406281352043 \n",
      "\n",
      "TEST Epoch 800 CONF MAT tensor([[  0.,   0., 120.,   0.],\n",
      "        [  0.,   0.,   7.,   0.],\n",
      "        [  0.,   0.,  10.,   0.],\n",
      "        [  0.,   0.,  11.,   0.]], device='cuda:0')\n",
      "\n",
      "TRAIN Epoch 850 Loss: 1.3862567889690398 Accuracy: 0.2524999976158142 F1 : 0.1431269496679306\n",
      "TRAIN Epoch 850 CONF MAT tensor([[  0.,   0.,  97.,   0.],\n",
      "        [  0.,   0.,  98.,   0.],\n",
      "        [  0.,   0., 101.,   0.],\n",
      "        [  0.,   0., 104.,   0.]], device='cuda:0')\n",
      "TEST Epoch 850 Loss: 1.3917963537009987, Accuracy: 0.06756757199764252 F1 : 0.05405406281352043 \n",
      "\n",
      "TEST Epoch 850 CONF MAT tensor([[  0.,   0., 120.,   0.],\n",
      "        [  0.,   0.,   7.,   0.],\n",
      "        [  0.,   0.,  10.,   0.],\n",
      "        [  0.,   0.,  11.,   0.]], device='cuda:0')\n",
      "\n",
      "TRAIN Epoch 900 Loss: 1.385936015844345 Accuracy: 0.2574999928474426 F1 : 0.13612699508666992\n",
      "TRAIN Epoch 900 CONF MAT tensor([[  0.,   0., 102.,   0.],\n",
      "        [  0.,   0., 112.,   0.],\n",
      "        [  0.,   0., 103.,   0.],\n",
      "        [  0.,   0.,  83.,   0.]], device='cuda:0')\n",
      "TEST Epoch 900 Loss: 1.3867031078080874, Accuracy: 0.06756757199764252 F1 : 0.05405406281352043 \n",
      "\n",
      "TEST Epoch 900 CONF MAT tensor([[  0.,   0., 120.,   0.],\n",
      "        [  0.,   0.,   7.,   0.],\n",
      "        [  0.,   0.,  10.,   0.],\n",
      "        [  0.,   0.,  11.,   0.]], device='cuda:0')\n",
      "\n",
      "TRAIN Epoch 950 Loss: 1.3864970457553865 Accuracy: 0.20250000059604645 F1 : 0.10561902821063995\n",
      "TRAIN Epoch 950 CONF MAT tensor([[ 81.,   0.,   0.,   0.],\n",
      "        [109.,   0.,   0.,   0.],\n",
      "        [128.,   0.,   0.,   0.],\n",
      "        [ 82.,   0.,   0.,   0.]], device='cuda:0')\n",
      "TEST Epoch 950 Loss: 1.3820822722203023, Accuracy: 0.8108108043670654 F1 : 0.5804377198219299 \n",
      "\n",
      "TEST Epoch 950 CONF MAT tensor([[120.,   0.,   0.,   0.],\n",
      "        [  7.,   0.,   0.,   0.],\n",
      "        [ 10.,   0.,   0.,   0.],\n",
      "        [ 11.,   0.,   0.,   0.]], device='cuda:0')\n",
      "\n"
     ]
    }
   ],
   "source": [
    "train_loss = []\n",
    "test_loss = []\n",
    "\n",
    "train_acc = []\n",
    "test_acc = []\n",
    "\n",
    "train_f1 = []\n",
    "test_f1 = []\n",
    "\n",
    "for i in range(1000):  \n",
    "    train(i)\n",
    "    test(i)"
   ]
  },
  {
   "cell_type": "code",
   "execution_count": 978,
   "metadata": {},
   "outputs": [],
   "source": [
    "def smoothe(x:list,alpha=0.9):\n",
    "    smoothed_x = [x[0]]\n",
    "    for i in range(1,len(x)):\n",
    "        smoothed_x.append(alpha*smoothed_x[i-1] + x[i-1]*(1-alpha))\n",
    "    return smoothed_x\n",
    "\n",
    "train_acc, test_acc = [x.cpu().numpy() for x in train_acc], [x.cpu().numpy() for x in test_acc] \n",
    "train_f1, test_f1 = [x.cpu().numpy() for x in train_f1], [x.cpu().numpy() for x in test_f1] "
   ]
  },
  {
   "cell_type": "code",
   "execution_count": 979,
   "metadata": {},
   "outputs": [],
   "source": [
    "smoothing_param = 0.9\n",
    "\n",
    "train_loss_sm = smoothe(train_loss,alpha=smoothing_param)\n",
    "test_loss_sm = smoothe(test_loss,alpha=smoothing_param)\n",
    "\n",
    "train_acc_sm = smoothe(train_acc,alpha=smoothing_param)\n",
    "test_acc_sm = smoothe(test_acc,alpha=smoothing_param)\n",
    "\n",
    "train_f1_sm = smoothe(train_f1,alpha=smoothing_param)\n",
    "test_f1_sm = smoothe(test_f1,alpha=smoothing_param)"
   ]
  },
  {
   "cell_type": "code",
   "execution_count": 980,
   "metadata": {},
   "outputs": [
    {
     "data": {
      "text/plain": [
       "Text(0.5, 1.0, 'F1')"
      ]
     },
     "execution_count": 980,
     "metadata": {},
     "output_type": "execute_result"
    },
    {
     "data": {
      "image/png": "[encoded data removed]",
      "text/plain": [
       "<Figure size 1080x432 with 3 Axes>"
      ]
     },
     "metadata": {
      "needs_background": "light"
     },
     "output_type": "display_data"
    }
   ],
   "source": [
    "import matplotlib.pyplot as plt\n",
    "epochs = 1000\n",
    "\n",
    "fig, (ax1, ax2,ax3) = plt.subplots(1,3,figsize=(15,6))\n",
    "ax1.plot(range(epochs),train_loss_sm,label='train')\n",
    "ax1.plot(range(epochs),test_loss_sm,label='test')\n",
    "ax1.legend()\n",
    "ax1.set_title('LOSS')\n",
    "\n",
    "\n",
    "ax2.plot(range(epochs),train_acc_sm,label='train')\n",
    "ax2.plot(range(epochs),test_acc_sm,label='test')\n",
    "ax2.legend()\n",
    "ax2.set_title('ACCURACY')\n",
    "\n",
    "ax3.plot(range(epochs),train_f1_sm,label='train')\n",
    "ax3.plot(range(epochs),test_f1_sm,label='test')\n",
    "ax3.legend()\n",
    "ax3.set_title('F1')\n",
    "#STANDARTIZED, weight_decay 7e-2, 16\n",
    "# window 60, overlap 30, 30 -> action "
   ]
  },
  {
   "cell_type": "code",
   "execution_count": 969,
   "metadata": {},
   "outputs": [
    {
     "data": {
      "text/plain": [
       "Text(0.5, 1.0, 'F1')"
      ]
     },
     "execution_count": 969,
     "metadata": {},
     "output_type": "execute_result"
    },
    {
     "data": {
      "image/png": "[encoded data removed]",
      "text/plain": [
       "<Figure size 1080x432 with 3 Axes>"
      ]
     },
     "metadata": {
      "needs_background": "light"
     },
     "output_type": "display_data"
    }
   ],
   "source": [
    "import matplotlib.pyplot as plt\n",
    "epochs = 1000\n",
    "\n",
    "fig, (ax1, ax2,ax3) = plt.subplots(1,3,figsize=(15,6))\n",
    "ax1.plot(range(epochs),train_loss_sm,label='train')\n",
    "ax1.plot(range(epochs),test_loss_sm,label='test')\n",
    "ax1.legend()\n",
    "ax1.set_title('LOSS')\n",
    "\n",
    "\n",
    "ax2.plot(range(epochs),train_acc_sm,label='train')\n",
    "ax2.plot(range(epochs),test_acc_sm,label='test')\n",
    "ax2.legend()\n",
    "ax2.set_title('ACCURACY')\n",
    "\n",
    "ax3.plot(range(epochs),train_f1_sm,label='train')\n",
    "ax3.plot(range(epochs),test_f1_sm,label='test')\n",
    "ax3.legend()\n",
    "ax3.set_title('F1')\n",
    "#STANDARTIZED, weight_decay 7e-2, 8\n",
    "# window 60, overlap 30, 30 -> action "
   ]
  },
  {
   "cell_type": "code",
   "execution_count": 649,
   "metadata": {},
   "outputs": [
    {
     "name": "stdout",
     "output_type": "stream",
     "text": [
      "Parameter containing:\n",
      "tensor([[[ 2.6974e-02,  7.5904e-03,  6.8030e-03,  2.1992e-02,  2.1326e-02,\n",
      "          -1.0677e-02,  3.4281e-03,  1.4928e-02],\n",
      "         [ 1.5160e-02,  1.4075e-02,  8.5506e-03,  2.2673e-02,  2.1326e-02,\n",
      "          -1.4848e-02,  2.3215e-03,  1.5103e-02],\n",
      "         [ 2.2373e-02, -2.4106e-03, -1.6134e-03,  1.2250e-02,  1.1697e-02,\n",
      "          -9.8259e-04,  1.5308e-02,  4.9923e-03],\n",
      "         [ 2.0835e-02,  6.5704e-03,  5.2382e-03,  2.2711e-02,  1.7933e-02,\n",
      "          -1.1810e-02,  6.7041e-03,  1.0574e-02]],\n",
      "\n",
      "        [[ 4.1223e-04,  8.3483e-04, -8.5932e-04,  1.9870e-03,  2.4907e-03,\n",
      "           9.6854e-07, -9.4269e-05,  1.0730e-03],\n",
      "         [-3.1950e-03,  5.7733e-03, -5.9949e-03,  7.6081e-03,  7.9693e-03,\n",
      "          -4.0424e-03,  4.0913e-03, -1.4617e-04],\n",
      "         [ 3.8240e-04, -1.7261e-03,  1.7774e-03, -2.0479e-03, -2.1116e-03,\n",
      "           1.0303e-03, -1.3975e-03, -2.8787e-03],\n",
      "         [ 5.1274e-03, -5.3943e-03,  5.3291e-03, -4.8094e-03, -4.4134e-03,\n",
      "           5.4965e-03, -5.3079e-03,  1.4126e-03]]], device='cuda:0',\n",
      "       requires_grad=True) Parameter containing:\n",
      "tensor([[[ 0.0292,  0.0073,  0.0044,  0.0160,  0.0509, -0.0169, -0.0002,\n",
      "           0.0116],\n",
      "         [ 0.0169,  0.0193,  0.0065,  0.0221,  0.0468, -0.0311, -0.0015,\n",
      "           0.0146],\n",
      "         [ 0.0427, -0.0009, -0.0069,  0.0034,  0.0405, -0.0160,  0.0113,\n",
      "           0.0024],\n",
      "         [ 0.0344,  0.0070, -0.0004,  0.0186,  0.0465, -0.0242,  0.0036,\n",
      "          -0.0010]],\n",
      "\n",
      "        [[ 0.0009,  0.0007, -0.0007,  0.0028,  0.0026,  0.0005, -0.0008,\n",
      "           0.0021],\n",
      "         [-0.0024,  0.0065, -0.0068,  0.0092,  0.0088, -0.0034,  0.0030,\n",
      "           0.0008],\n",
      "         [ 0.0012, -0.0023,  0.0023, -0.0012, -0.0010,  0.0015, -0.0022,\n",
      "          -0.0019],\n",
      "         [ 0.0048, -0.0051,  0.0048, -0.0037, -0.0034,  0.0051, -0.0048,\n",
      "           0.0010]]], device='cuda:0', requires_grad=True)\n"
     ]
    }
   ],
   "source": [
    "net.print_h0()"
   ]
  },
  {
   "cell_type": "code",
   "execution_count": 887,
   "metadata": {},
   "outputs": [
    {
     "data": {
      "text/plain": [
       "0    332\n",
       "3     88\n",
       "2     59\n",
       "1     52\n",
       "dtype: int64"
      ]
     },
     "execution_count": 887,
     "metadata": {},
     "output_type": "execute_result"
    }
   ],
   "source": [
    "pd.DataFrame(ds_train[:][1].argmax(dim=1).numpy()).value_counts()"
   ]
  },
  {
   "cell_type": "code",
   "execution_count": 944,
   "metadata": {},
   "outputs": [
    {
     "data": {
      "text/plain": [
       "0    969\n",
       "2    182\n",
       "3    139\n",
       "1    112\n",
       "dtype: int64"
      ]
     },
     "execution_count": 944,
     "metadata": {},
     "output_type": "execute_result"
    }
   ],
   "source": [
    "pd.DataFrame(ds_train[:][1].argmax(dim=1).numpy()).value_counts()"
   ]
  },
  {
   "cell_type": "code",
   "execution_count": 743,
   "metadata": {},
   "outputs": [
    {
     "data": {
      "text/plain": [
       "array([0, 0, 0, 2, 0, 0, 0, 2, 0, 0, 2, 0, 0, 2, 0, 0, 2, 0, 0, 2, 0, 2,\n",
       "       0, 0, 2, 0, 2, 0, 0, 0, 2, 0, 0, 3, 0, 0, 3, 3, 0, 3, 0, 3, 0, 0,\n",
       "       0, 0, 1, 0, 0, 1, 0, 1, 0, 0, 1, 0, 0, 1, 0, 1, 0, 0, 1, 0, 0, 0,\n",
       "       1, 0, 0, 1, 0, 0, 1, 0, 1, 0, 0, 1, 1, 0, 0, 1, 1, 0, 0, 1, 1, 0,\n",
       "       0, 1, 3, 0, 0, 0, 3, 0, 0, 3, 0, 3, 0, 3, 0, 3, 0, 3, 0, 0, 3, 3,\n",
       "       0, 0, 0, 3, 0, 0, 0, 0, 0, 1, 0, 0, 0, 1, 0, 0, 1, 0, 0, 1, 0, 0,\n",
       "       0, 1, 0, 0, 1, 0, 1, 0, 0, 1, 0, 1, 0, 0, 0, 1, 0, 0, 0, 1, 0, 0,\n",
       "       1, 0, 0, 1, 0, 0, 1, 0, 0, 1, 0, 0, 1, 0, 0, 2, 0, 0, 0, 0, 2, 0,\n",
       "       0, 0, 0, 2, 2, 0, 0, 2, 0, 2, 0, 0, 2, 2, 0, 0, 0, 2, 0, 0, 0, 2,\n",
       "       0, 0, 0, 0, 0, 0, 0, 2, 0, 0, 0, 0, 0, 2, 0, 2, 0, 0, 2, 0, 2, 0,\n",
       "       0, 0, 2, 2, 0, 0, 2, 0, 2, 0, 0, 0, 2, 2, 0, 0, 2])"
      ]
     },
     "execution_count": 743,
     "metadata": {},
     "output_type": "execute_result"
    }
   ],
   "source": [
    "ds_train[:][1].argmax(dim=1).numpy()"
   ]
  },
  {
   "cell_type": "code",
   "execution_count": 902,
   "metadata": {},
   "outputs": [
    {
     "data": {
      "text/plain": [
       "0    969\n",
       "2    182\n",
       "3    139\n",
       "1    112\n",
       "dtype: int64"
      ]
     },
     "execution_count": 902,
     "metadata": {},
     "output_type": "execute_result"
    }
   ],
   "source": [
    "pd.DataFrame(ds_train[:][1].argmax(dim=1).numpy()).value_counts()"
   ]
  },
  {
   "cell_type": "code",
   "execution_count": 757,
   "metadata": {},
   "outputs": [
    {
     "data": {
      "text/plain": [
       "0    118\n",
       "2     52\n",
       "1     46\n",
       "3     21\n",
       "dtype: int64"
      ]
     },
     "execution_count": 757,
     "metadata": {},
     "output_type": "execute_result"
    }
   ],
   "source": [
    "pd.DataFrame(ds_train[:][1].argmax(dim=1).numpy()).value_counts()"
   ]
  },
  {
   "cell_type": "code",
   "execution_count": null,
   "metadata": {},
   "outputs": [],
   "source": []
  }
 ],
 "metadata": {
  "kernelspec": {
   "display_name": "Python [conda env:work_hand_gesture]",
   "language": "python",
   "name": "conda-env-work_hand_gesture-py"
  },
  "language_info": {
   "codemirror_mode": {
    "name": "ipython",
    "version": 3
   },
   "file_extension": ".py",
   "mimetype": "text/x-python",
   "name": "python",
   "nbconvert_exporter": "python",
   "pygments_lexer": "ipython3",
   "version": "3.10.5"
  },
  "vscode": {
   "interpreter": {
    "hash": "27cb15847b0d5be65d380d57e87bbf07dd68cbba3fbb3a00a254e788e1ffb8b0"
   }
  }
 },
 "nbformat": 4,
 "nbformat_minor": 4
}
